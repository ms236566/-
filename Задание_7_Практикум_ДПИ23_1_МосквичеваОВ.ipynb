{
  "nbformat": 4,
  "nbformat_minor": 0,
  "metadata": {
    "colab": {
      "provenance": [],
      "authorship_tag": "ABX9TyPdeCQXw7qIpuvHb66/iOA1",
      "include_colab_link": true
    },
    "kernelspec": {
      "name": "python3",
      "display_name": "Python 3"
    },
    "language_info": {
      "name": "python"
    }
  },
  "cells": [
    {
      "cell_type": "markdown",
      "metadata": {
        "id": "view-in-github",
        "colab_type": "text"
      },
      "source": [
        "<a href=\"https://colab.research.google.com/github/ms236566/-/blob/main/%D0%97%D0%B0%D0%B4%D0%B0%D0%BD%D0%B8%D0%B5_7_%D0%9F%D1%80%D0%B0%D0%BA%D1%82%D0%B8%D0%BA%D1%83%D0%BC_%D0%94%D0%9F%D0%9823_1_%D0%9C%D0%BE%D1%81%D0%BA%D0%B2%D0%B8%D1%87%D0%B5%D0%B2%D0%B0%D0%9E%D0%92.ipynb\" target=\"_parent\"><img src=\"https://colab.research.google.com/assets/colab-badge.svg\" alt=\"Open In Colab\"/></a>"
      ]
    },
    {
      "cell_type": "markdown",
      "source": [
        "Задание 7"
      ],
      "metadata": {
        "id": "vVyrPSo6z75t"
      }
    },
    {
      "cell_type": "markdown",
      "source": [
        "Создайте класс Point (точка), у которого имеются 2 атрибута x и y (координаты) и методы __init__() и __str__(), и класс Rect (прямоугольник) у которого есть:\n",
        "\n",
        "    два атрибута (верхний левый угол и правый нижний угол прямоугольника), значениями которых являются объекты класса Point;\n",
        "    методы __init__() и __str__();\n",
        "    метод sides(), возвращающий длины сторон прямоугольника;\n",
        "    метод perim(), вычисляющий периметр прямоугольника\n",
        "\n",
        "Продемонстрируйте работу с классами, создав необходимые объекты и вызвав их методы.\n"
      ],
      "metadata": {
        "id": "UdZK05J20BYE"
      }
    },
    {
      "cell_type": "code",
      "source": [
        "class Point1:\n",
        "    def __init__(self, x, y):\n",
        "        self.x = x\n",
        "        self.y = y\n",
        "\n",
        "    def __str__(self):\n",
        "      r = str('Точка ({}, {})'.format(self.x, self.y))\n",
        "      return r\n",
        "\n",
        "        #return 'Point1 ({}, {})'.format(self.x, self.y)\n",
        "\n",
        "p = Point1(2, 3)\n",
        "print(p)"
      ],
      "metadata": {
        "colab": {
          "base_uri": "https://localhost:8080/"
        },
        "id": "UM1Irgdu2-G2",
        "outputId": "54420037-725a-4a42-c7d7-f5636f3d0429"
      },
      "execution_count": 26,
      "outputs": [
        {
          "output_type": "stream",
          "name": "stdout",
          "text": [
            "Точка (2, 3)\n"
          ]
        }
      ]
    },
    {
      "cell_type": "code",
      "source": [
        "class  Rect:\n",
        "  def __init__(self,  width,  height):\n",
        "    self.width  =  width\n",
        "    self.height = height\n",
        "\n",
        "  def area(self):\n",
        "    return self.width*self.width\n",
        "\n",
        "  def __str__(self):\n",
        "    r1 = str('Прямоугольник ({},{})'.format(self.width, self.height))\n",
        "    return r1\n",
        "\n",
        "rect = Rect(10, 20)\n",
        "print(rect)"
      ],
      "metadata": {
        "id": "CLo5QnlvsbRo",
        "colab": {
          "base_uri": "https://localhost:8080/"
        },
        "outputId": "1b571c1d-4c58-43d4-84f3-3d086f6b1ae9"
      },
      "execution_count": 27,
      "outputs": [
        {
          "output_type": "stream",
          "name": "stdout",
          "text": [
            "Прямоугольник (10,20)\n"
          ]
        }
      ]
    },
    {
      "cell_type": "code",
      "source": [
        "class  Rect2:\n",
        "  def __init__(self,  width,  height):\n",
        "    self.width  =  width\n",
        "    self.height = height\n",
        "\n",
        "  def perimeter(self):\n",
        "    return 2 * (self.width + self.height)\n",
        "\n",
        "r2 = Rect2(10,20)\n",
        "\n",
        "print(f'Периметр: {r2.perimeter()}')"
      ],
      "metadata": {
        "colab": {
          "base_uri": "https://localhost:8080/"
        },
        "id": "aLoHE_Xrj4CV",
        "outputId": "d5215e36-3f1c-480a-b915-81ce9511cb14"
      },
      "execution_count": 28,
      "outputs": [
        {
          "output_type": "stream",
          "name": "stdout",
          "text": [
            "Периметр: 60\n"
          ]
        }
      ]
    }
  ]
}