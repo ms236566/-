{
  "nbformat": 4,
  "nbformat_minor": 0,
  "metadata": {
    "colab": {
      "provenance": [],
      "authorship_tag": "ABX9TyM26h5boCSU+G8TBKj+o/cQ",
      "include_colab_link": true
    },
    "kernelspec": {
      "name": "python3",
      "display_name": "Python 3"
    },
    "language_info": {
      "name": "python"
    }
  },
  "cells": [
    {
      "cell_type": "markdown",
      "metadata": {
        "id": "view-in-github",
        "colab_type": "text"
      },
      "source": [
        "<a href=\"https://colab.research.google.com/github/ms236566/-/blob/main/%D0%97%D0%B0%D0%B4%D0%B0%D0%BD%D0%B8%D0%B5_7_%D0%9F%D1%80%D0%B0%D0%BA%D1%82%D0%B8%D0%BA%D1%83%D0%BC_%D0%94%D0%9F%D0%9823_1_%D0%9C%D0%BE%D1%81%D0%BA%D0%B2%D0%B8%D1%87%D0%B5%D0%B2%D0%B0%D0%9E%D0%92.ipynb\" target=\"_parent\"><img src=\"https://colab.research.google.com/assets/colab-badge.svg\" alt=\"Open In Colab\"/></a>"
      ]
    },
    {
      "cell_type": "markdown",
      "source": [
        "Задание 7"
      ],
      "metadata": {
        "id": "vVyrPSo6z75t"
      }
    },
    {
      "cell_type": "markdown",
      "source": [
        "Создайте класс Point (точка), у которого имеются 2 атрибута x и y (координаты) и методы __init__() и __str__(), и класс Rect (прямоугольник) у которого есть:\n",
        "\n",
        "    два атрибута (верхний левый угол и правый нижний угол прямоугольника), значениями которых являются объекты класса Point;\n",
        "    методы __init__() и __str__();\n",
        "    метод sides(), возвращающий длины сторон прямоугольника;\n",
        "    метод perim(), вычисляющий периметр прямоугольника\n",
        "\n",
        "Продемонстрируйте работу с классами, создав необходимые объекты и вызвав их методы.\n"
      ],
      "metadata": {
        "id": "UdZK05J20BYE"
      }
    },
    {
      "cell_type": "code",
      "source": [
        "class Point1:\n",
        "    def __init__(self, x, y):\n",
        "        self.x = x\n",
        "        self.y = y\n",
        "\n",
        "    def __str__(self):\n",
        "      r = str('Точка ({}, {})'.format(self.x, self.y))\n",
        "      return r\n",
        "\n",
        "        #return 'Point1 ({}, {})'.format(self.x, self.y)\n",
        "\n",
        "p = Point1(2, 3)\n",
        "print(p)"
      ],
      "metadata": {
        "colab": {
          "base_uri": "https://localhost:8080/"
        },
        "id": "UM1Irgdu2-G2",
        "outputId": "88b0ec2b-3459-4421-9576-025b569ede90"
      },
      "execution_count": null,
      "outputs": [
        {
          "output_type": "stream",
          "name": "stdout",
          "text": [
            "Точка (2, 3)\n"
          ]
        }
      ]
    },
    {
      "cell_type": "code",
      "source": [
        "class  Rect:\n",
        "  def __init__(self,  width,  height):\n",
        "    self.width  =  width\n",
        "    self.height = height\n",
        "\n",
        "  def area(self):\n",
        "    return self.width*self.width\n",
        "\n",
        "  def __str__(self):\n",
        "    r1 = str('Прямоугольник ({},{})'.format(self.width, self.height))\n",
        "    return r1\n",
        "\n",
        "rect = Rect(10, 20)\n",
        "print(rect)"
      ],
      "metadata": {
        "id": "CLo5QnlvsbRo",
        "colab": {
          "base_uri": "https://localhost:8080/"
        },
        "outputId": "60d8f7aa-f044-4a7f-ca1d-1955f8d94d48"
      },
      "execution_count": 23,
      "outputs": [
        {
          "output_type": "stream",
          "name": "stdout",
          "text": [
            "Прямоугольник (10,20)\n"
          ]
        }
      ]
    }
  ]
}