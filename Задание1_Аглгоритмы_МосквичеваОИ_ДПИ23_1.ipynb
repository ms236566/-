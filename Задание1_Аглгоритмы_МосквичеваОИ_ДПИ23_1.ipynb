{
  "nbformat": 4,
  "nbformat_minor": 0,
  "metadata": {
    "colab": {
      "provenance": [],
      "authorship_tag": "ABX9TyPDTJwKysGz3JSS7QlS/P9w",
      "include_colab_link": true
    },
    "kernelspec": {
      "name": "python3",
      "display_name": "Python 3"
    },
    "language_info": {
      "name": "python"
    }
  },
  "cells": [
    {
      "cell_type": "markdown",
      "metadata": {
        "id": "view-in-github",
        "colab_type": "text"
      },
      "source": [
        "<a href=\"https://colab.research.google.com/github/ms236566/-/blob/main/%D0%97%D0%B0%D0%B4%D0%B0%D0%BD%D0%B8%D0%B51_%D0%90%D0%B3%D0%BB%D0%B3%D0%BE%D1%80%D0%B8%D1%82%D0%BC%D1%8B_%D0%9C%D0%BE%D1%81%D0%BA%D0%B2%D0%B8%D1%87%D0%B5%D0%B2%D0%B0%D0%9E%D0%98_%D0%94%D0%9F%D0%9823_1.ipynb\" target=\"_parent\"><img src=\"https://colab.research.google.com/assets/colab-badge.svg\" alt=\"Open In Colab\"/></a>"
      ]
    },
    {
      "cell_type": "markdown",
      "source": [
        "# 1 Домашнее задание\n",
        "\n",
        "---\n",
        "Задача \"Операции с многочленами\".\\\n",
        "В файле input.txt содержатся коэффициенты двух многочленов. В первой строке файла - коэффициенты первого многочлена, во второй строке - коэффициенты второго многочлена. Коэффициенты являются действительными числами, в которых точка отделяет дробную часть. Между собой коэффициенты разделены пробелом. Коэффициенты располагаются в строке по увеличению степени переменной многочлена. То есть, самый левый коэффициент в строке соответствует нулевой степени переменной многочлена. Стоящий справа от него - первой степени и т.д.\n",
        "Если старшая степень многочлена больше нуля, то коэффициент при старшей степени не может быть равным нулю.\n",
        "\n",
        "---\n",
        "Напишите программу, которая:\n",
        "1.   Создает список, соответствующий многочлену, равному сумме многочленов, коэффициенты которых содержатся в файле input.txt. (Предполагается, что файл находится в той же папке, что и программа)\n",
        "2.   Создает два списка, соответствующих результату деления с остатком первого многочлена на второй многочлен. Первый список соответствует коэффициентам многочлена - неполного частного деления двух многочленов, а второй - коэффициентам многочлена - остатка от деления двух многочленов.\n",
        "3.   Создает (в той же папке, где находится программа) файл result.txt, в первую строку которого записывает коэффициенты многочлена, равного сумме исходных многочленов, во вторую строку - коэффициенты многочлена - неполного частного от деления первого многочлена на второй многочлен, а в третью строку - коэффициенты многочлена - остатка от деления первого многочлена на второй многочлен.\n",
        "\n",
        "Коэффициенты многочленов в файле результатов должны быть записаны в таком же формате, что и в исходном файле.\\\n",
        "Файл с разработанной программой (называться он должен task1.py) надо загрузить в систему (в данное задание).\\\n",
        "Замечание. При решении первого домашнего задания можно пользоваться только теми конструкциями языка Python, которые объясняются в материалах по первой и второй теме курса. *Курсив*\n",
        "\n"
      ],
      "metadata": {
        "id": "b02oXoKoakLj"
      }
    },
    {
      "cell_type": "code",
      "source": [
        "1# Ввод коэффициентов первого многочлена\n",
        "a = float(input('Веедите а > 0: a = '))\n",
        "b = float(input('Веедите b > 0: b = '))\n",
        "c = float(input('Веедите а > 0: c = '))\n",
        "polnolist1 = [a, b, c]\n",
        "polnolist1.sort()\n",
        "polnolist1 = str(polnolist1)"
      ],
      "metadata": {
        "id": "CyrAcDiRPcKQ",
        "colab": {
          "base_uri": "https://localhost:8080/"
        },
        "outputId": "0cf1418a-febb-4ba3-daf3-4d3d4c7a2cd5"
      },
      "execution_count": 11,
      "outputs": [
        {
          "name": "stdout",
          "output_type": "stream",
          "text": [
            "Веедите а > 0: a = 1\n",
            "Веедите b > 0: b = 2\n",
            "Веедите а > 0: c = 3\n"
          ]
        }
      ]
    },
    {
      "cell_type": "code",
      "source": [
        "1# Ввод коэффициентов первого многочлена\n",
        "a = float(input('Веедите а > 0: a = '))\n",
        "b = float(input('Веедите b > 0: b = '))\n",
        "c = float(input('Веедите а > 0: c = '))\n",
        "polnolist2 = [a, b, c]\n",
        "polnolist2.sort()\n",
        "polnolist2 = str(polnolist2)"
      ],
      "metadata": {
        "colab": {
          "base_uri": "https://localhost:8080/"
        },
        "id": "P8z3JhRBjSsj",
        "outputId": "9c93c436-7eed-43c2-d7d0-060734db758e"
      },
      "execution_count": 12,
      "outputs": [
        {
          "name": "stdout",
          "output_type": "stream",
          "text": [
            "Веедите а > 0: a = 2\n",
            "Веедите b > 0: b = 5\n",
            "Веедите а > 0: c = 3\n"
          ]
        }
      ]
    },
    {
      "cell_type": "code",
      "source": [
        "from google.colab import drive\n",
        "drive.mount('/content/drive')"
      ],
      "metadata": {
        "colab": {
          "base_uri": "https://localhost:8080/"
        },
        "id": "VVKTDq3ugzcC",
        "outputId": "aab84a08-bc83-45a6-cc46-0811b82d18b2"
      },
      "execution_count": 2,
      "outputs": [
        {
          "output_type": "stream",
          "name": "stdout",
          "text": [
            "Mounted at /content/drive\n"
          ]
        }
      ]
    },
    {
      "cell_type": "code",
      "source": [
        "lines = (polnolist1,polnolist2)\n",
        "with open(r\"/content/drive/MyDrive/A/input.txt \", \"w\") as file:\n",
        "    for  line in lines:\n",
        "        file.write(line + '\\n')"
      ],
      "metadata": {
        "id": "Br_guVd8g3PU"
      },
      "execution_count": 13,
      "outputs": []
    }
  ]
}