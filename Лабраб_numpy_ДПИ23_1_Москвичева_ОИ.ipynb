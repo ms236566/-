{
  "cells": [
    {
      "cell_type": "markdown",
      "metadata": {
        "id": "view-in-github",
        "colab_type": "text"
      },
      "source": [
        "<a href=\"https://colab.research.google.com/github/ms236566/-/blob/main/%D0%9B%D0%B0%D0%B1%D1%80%D0%B0%D0%B1_numpy_%D0%94%D0%9F%D0%9823_1_%D0%9C%D0%BE%D1%81%D0%BA%D0%B2%D0%B8%D1%87%D0%B5%D0%B2%D0%B0_%D0%9E%D0%98.ipynb\" target=\"_parent\"><img src=\"https://colab.research.google.com/assets/colab-badge.svg\" alt=\"Open In Colab\"/></a>"
      ]
    },
    {
      "cell_type": "markdown",
      "metadata": {
        "id": "88laf5AW8Upr"
      },
      "source": [
        "l# Numpy"
      ]
    },
    {
      "cell_type": "markdown",
      "metadata": {
        "id": "InicJ7kM8Upv"
      },
      "source": [
        "Материалы:\n",
        "* Макрушин С.В. \"Лекция 1: Библиотека Numpy\"\n",
        "* https://numpy.org/doc/stable/user/index.html\n",
        "* https://numpy.org/doc/stable/reference/index.html"
      ]
    },
    {
      "cell_type": "markdown",
      "metadata": {
        "id": "AIKhR5ZT8Upv"
      },
      "source": [
        "## Задачи для совместного разбора"
      ]
    },
    {
      "cell_type": "markdown",
      "metadata": {
        "id": "QMHD2cp18Upw"
      },
      "source": [
        "1. Сгенерировать двухмерный массив `arr` размерности (4, 7), состоящий из случайных действительных чисел, равномерно распределенных в диапазоне от 0 до 20. Нормализовать значения массива с помощью преобразования вида  $𝑎𝑥+𝑏$  так, что после нормализации максимальный элемент масcива будет равен 1.0, минимальный 0.0"
      ]
    },
    {
      "cell_type": "code",
      "execution_count": null,
      "metadata": {
        "id": "Jr3m2t2H8Upw"
      },
      "outputs": [],
      "source": [
        "import numpy as np"
      ]
    },
    {
      "cell_type": "code",
      "execution_count": null,
      "metadata": {
        "colab": {
          "base_uri": "https://localhost:8080/"
        },
        "id": "5S8pzQPF8Upx",
        "outputId": "ad2ccf81-f842-4a7c-b5d7-b73e8f870365"
      },
      "outputs": [
        {
          "output_type": "execute_result",
          "data": {
            "text/plain": [
              "array([[ 9, 12,  6, 16,  2,  4,  0],\n",
              "       [10, 19, 11, 16,  2, 17, 19],\n",
              "       [ 5, 16,  6, 11, 16,  2, 11],\n",
              "       [18, 14, 13,  3, 11,  1, 16]])"
            ]
          },
          "metadata": {},
          "execution_count": 2
        }
      ],
      "source": [
        "np.random.randint(0, 20, size = (4, 7))"
      ]
    },
    {
      "cell_type": "markdown",
      "source": [],
      "metadata": {
        "id": "J7a0Rhs986zu"
      }
    },
    {
      "cell_type": "code",
      "source": [
        "data = np.random.uniform(0, 20, size = (4, 7))\n",
        "print(data)\n",
        "(data-np.min(data))/(np.max(data)-np.min(data))"
      ],
      "metadata": {
        "colab": {
          "base_uri": "https://localhost:8080/"
        },
        "id": "K03wgBPM9DPr",
        "outputId": "37dbd0fd-a6dc-4606-afba-94b7e2fe9371"
      },
      "execution_count": null,
      "outputs": [
        {
          "output_type": "stream",
          "name": "stdout",
          "text": [
            "[[ 7.34122918  9.51754665  9.88276053 12.57832782 18.24180714  3.82791777\n",
            "  18.04527595]\n",
            " [ 7.2841805  17.52313454  5.4616427  14.91150231  1.62659707 15.13165791\n",
            "   4.12246199]\n",
            " [16.75975776 15.86213934 10.61214619  0.04490242 16.22056876  8.62023501\n",
            "   8.14663919]\n",
            " [ 9.73210777  4.04766465 14.04149525  4.78209797 19.1308378  19.4211117\n",
            "  16.91708703]]\n"
          ]
        },
        {
          "output_type": "execute_result",
          "data": {
            "text/plain": [
              "array([[0.3765611 , 0.48888016, 0.50772873, 0.6468461 , 0.93913647,\n",
              "        0.19524022, 0.92899355],\n",
              "       [0.37361684, 0.902046  , 0.27955624, 0.76726049, 0.08163076,\n",
              "        0.77862265, 0.21044155],\n",
              "       [0.86264837, 0.81632257, 0.54537209, 0.        , 0.834821  ,\n",
              "        0.44257019, 0.41812806],\n",
              "       [0.49995359, 0.20658129, 0.72235971, 0.24448516, 0.98501906,\n",
              "        1.        , 0.87076808]])"
            ]
          },
          "metadata": {},
          "execution_count": 3
        }
      ]
    },
    {
      "cell_type": "markdown",
      "metadata": {
        "id": "NlmuLBKe8Upy"
      },
      "source": [
        "2. Создать матрицу 8 на 10 из случайных целых (используя модуль `numpy.random`) чисел из диапозона от 0 до 10 и найти в ней строку (ее индекс и вывести саму строку), в которой сумма значений минимальна."
      ]
    },
    {
      "cell_type": "code",
      "execution_count": null,
      "metadata": {
        "colab": {
          "base_uri": "https://localhost:8080/"
        },
        "id": "Igf2bz5g8Upy",
        "outputId": "f8c688a8-0edc-4ba1-fcac-84cfd0e74f57"
      },
      "outputs": [
        {
          "output_type": "execute_result",
          "data": {
            "text/plain": [
              "array([[8, 9, 5, 7, 0, 9, 5, 3, 7, 9],\n",
              "       [5, 4, 0, 5, 9, 4, 9, 7, 4, 7],\n",
              "       [9, 3, 5, 8, 6, 7, 4, 7, 7, 5],\n",
              "       [4, 6, 5, 7, 4, 9, 1, 0, 4, 6],\n",
              "       [9, 6, 4, 3, 1, 3, 7, 4, 4, 6],\n",
              "       [4, 9, 3, 6, 6, 5, 2, 2, 6, 4],\n",
              "       [3, 6, 3, 0, 7, 7, 7, 3, 1, 5],\n",
              "       [9, 6, 0, 1, 8, 7, 6, 5, 1, 7]])"
            ]
          },
          "metadata": {},
          "execution_count": 4
        }
      ],
      "source": [
        "np.random.randint(0, 10, size = (8, 10))"
      ]
    },
    {
      "cell_type": "code",
      "source": [
        "arr = np.random.randint(0, 10, size = (8, 10))\n",
        "print(arr)\n",
        "print(\"Row Index\",np.argmin(np.sum(arr, axis=1)))\n",
        "arr[np.argmin(np.sum(arr, axis=1))]"
      ],
      "metadata": {
        "colab": {
          "base_uri": "https://localhost:8080/"
        },
        "id": "1B6w-GAYCKqA",
        "outputId": "1f11e5c2-ab49-476b-ed82-850fd26d44aa"
      },
      "execution_count": null,
      "outputs": [
        {
          "output_type": "stream",
          "name": "stdout",
          "text": [
            "[[0 1 9 6 8 9 9 7 3 5]\n",
            " [6 7 8 3 5 8 2 3 3 6]\n",
            " [1 0 6 5 0 7 4 1 4 1]\n",
            " [5 6 2 2 0 0 0 3 8 0]\n",
            " [8 8 0 6 1 2 9 1 0 4]\n",
            " [3 1 9 1 0 3 0 4 6 9]\n",
            " [0 9 6 6 1 5 8 4 0 3]\n",
            " [6 0 5 3 0 0 7 3 1 6]]\n",
            "Row Index 3\n"
          ]
        },
        {
          "output_type": "execute_result",
          "data": {
            "text/plain": [
              "array([5, 6, 2, 2, 0, 0, 0, 3, 8, 0])"
            ]
          },
          "metadata": {},
          "execution_count": 5
        }
      ]
    },
    {
      "cell_type": "markdown",
      "metadata": {
        "id": "pdWTuG6e8Upz"
      },
      "source": [
        "3. Найти евклидово расстояние между двумя одномерными векторами одинаковой размерности."
      ]
    },
    {
      "cell_type": "code",
      "source": [
        "point_1 = np.random.randint(0, 20, size=5)\n",
        "point_2 = np.random.randint(0, 20, size=5)\n",
        "print(point_1)\n",
        "print(point_2)\n",
        "#first way\n",
        "square = np.square(point_1 - point_2)\n",
        "sum_square = np.sum(square)\n",
        "print(np.sqrt(sum_square))\n",
        "#second way\n",
        "distance = np.linalg.norm(point_1-point_2)\n",
        "print(distance)"
      ],
      "metadata": {
        "colab": {
          "base_uri": "https://localhost:8080/"
        },
        "id": "idCnBOCQCSty",
        "outputId": "d62e48e2-1ef5-4216-fdaa-f69ab65af413"
      },
      "execution_count": null,
      "outputs": [
        {
          "output_type": "stream",
          "name": "stdout",
          "text": [
            "[10 11  4  6  7]\n",
            "[16  2  6 19 16]\n",
            "19.261360284258224\n",
            "19.261360284258224\n"
          ]
        }
      ]
    },
    {
      "cell_type": "code",
      "execution_count": null,
      "metadata": {
        "id": "N7r8F4p38Upz"
      },
      "outputs": [],
      "source": [
        "import matplotlib.pyplot as pl\n",
        "from mpl_toolkits.mplot3d import Axes3D"
      ]
    },
    {
      "cell_type": "markdown",
      "metadata": {
        "id": "Q4QoWM9K8Upz"
      },
      "source": [
        "4. Решить матричное уравнение `A*X*B=-C` - найти матрицу `X`. Где `A = [[-1, 2, 4], [-3, 1, 2], [-3, 0, 1]]`, `B=[[3, -1], [2, 1]]`, `C=[[7, 21], [11, 8], [8, 4]]`."
      ]
    },
    {
      "cell_type": "code",
      "source": [
        "a = np.array([[-1, 2, 4], [-3, 1, 2], [-3, 0, 1]])\n",
        "b = np.array([[3, -1], [2, 1]])\n",
        "c = np.array([[7, 21], [11, 8], [8, 4]])\n",
        "#решение: x = a^-1*(-c)*b^-1\n",
        "\n",
        "x0 = np.matmul(np.linalg.inv(a),(-c))\n",
        "print(x0)\n",
        "x =  np.matmul(x0,np.linalg.inv(b))\n",
        "print(x)"
      ],
      "metadata": {
        "colab": {
          "base_uri": "https://localhost:8080/"
        },
        "id": "N3FdXTSaDA-g",
        "outputId": "4b028d63-5bfb-43e2-dcde-4e118234677c"
      },
      "execution_count": null,
      "outputs": [
        {
          "output_type": "stream",
          "name": "stdout",
          "text": [
            "[[ 3. -1.]\n",
            " [-4.  3.]\n",
            " [ 1. -7.]]\n",
            "[[ 1.00000000e+00  5.32907052e-16]\n",
            " [-2.00000000e+00  1.00000000e+00]\n",
            " [ 3.00000000e+00 -4.00000000e+00]]\n"
          ]
        }
      ]
    },
    {
      "cell_type": "markdown",
      "metadata": {
        "id": "YIBAQ5ez8Upz"
      },
      "source": [
        "## Лабораторная работа №1"
      ]
    },
    {
      "cell_type": "markdown",
      "metadata": {
        "id": "acsiP3VP8Up0"
      },
      "source": [
        "Замечание: при решении данных задач не подразумевается использования циклов или генераторов Python, если в задании не сказано обратного. Решение должно опираться на использования функционала библиотеки `numpy`."
      ]
    },
    {
      "cell_type": "markdown",
      "metadata": {
        "id": "CaK5tb4r8Up0"
      },
      "source": [
        "1. Файл `minutes_n_ingredients.csv` содержит информацию об идентификаторе рецепта, времени его выполнения в минутах и количестве необходимых ингредиентов. Считайте данные из этого файла в виде массива `numpy` типа `int32`, используя `np.loadtxt`. Выведите на экран первые 5 строк массива."
      ]
    },
    {
      "cell_type": "code",
      "source": [
        "from google.colab import drive\n",
        "drive.mount('/content/drive')"
      ],
      "metadata": {
        "colab": {
          "base_uri": "https://localhost:8080/"
        },
        "id": "D6n_WpIF1qKL",
        "outputId": "9bf086e4-2555-4694-897b-3a50e9818897"
      },
      "execution_count": 42,
      "outputs": [
        {
          "output_type": "stream",
          "name": "stdout",
          "text": [
            "Drive already mounted at /content/drive; to attempt to forcibly remount, call drive.mount(\"/content/drive\", force_remount=True).\n"
          ]
        }
      ]
    },
    {
      "cell_type": "code",
      "source": [
        "data = np.loadtxt(\"/content/drive/MyDrive/L/minutes_n_ingredients.csv\", delimiter=',', skiprows=1, dtype=np.int32)\n",
        "# first 5 rows\n",
        "print(data[0:5, :])"
      ],
      "metadata": {
        "colab": {
          "base_uri": "https://localhost:8080/"
        },
        "id": "ArhCq9TuDbFf",
        "outputId": "6cdf731b-bfb7-43ba-d92e-dfc3d90d74bb"
      },
      "execution_count": 43,
      "outputs": [
        {
          "output_type": "stream",
          "name": "stdout",
          "text": [
            "[[127244     60     16]\n",
            " [ 23891     25      7]\n",
            " [ 94746     10      6]\n",
            " [ 67660      5      6]\n",
            " [157911     60     14]]\n"
          ]
        }
      ]
    },
    {
      "cell_type": "code",
      "source": [
        "d1 = data.copy()"
      ],
      "metadata": {
        "id": "j5FulXPt-tri"
      },
      "execution_count": 44,
      "outputs": []
    },
    {
      "cell_type": "markdown",
      "metadata": {
        "id": "yKAWaO6E8Up0"
      },
      "source": [
        "2. Вычислите среднее значение, минимум, максимум и медиану по каждому из столбцов, кроме первого."
      ]
    },
    {
      "cell_type": "code",
      "source": [
        "#делаем срез массива, извлекаем все кроме первого массива\n",
        "sliced = data[:,1:]\n",
        "# находим среднее по столбцам среза\n",
        "print(np.mean(sliced,axis=0))\n",
        "# находим минимум по столбцам среза\n",
        "print(np.min(sliced, axis=0))\n",
        "# находим максимум по столбцам среза\n",
        "print(np.max(sliced, axis=0))\n",
        "# находим медиану по столбцам среза\n",
        "print(np.median(sliced, axis=0))"
      ],
      "metadata": {
        "colab": {
          "base_uri": "https://localhost:8080/"
        },
        "id": "j5mLBrNkEajU",
        "outputId": "48261c13-4a12-48be-daae-7bc18a5b7a35"
      },
      "execution_count": 45,
      "outputs": [
        {
          "output_type": "stream",
          "name": "stdout",
          "text": [
            "[2.16010017e+04 9.05528000e+00]\n",
            "[0 1]\n",
            "[2147483647         39]\n",
            "[40.  9.]\n"
          ]
        }
      ]
    },
    {
      "cell_type": "markdown",
      "metadata": {
        "id": "5lmY06sT8Up0"
      },
      "source": [
        "3. Ограничьте сверху значения продолжительности выполнения рецепта значением квантиля $q_{0.75}$."
      ]
    },
    {
      "cell_type": "code",
      "source": [
        "np.clip(data[:, 1],0,np.quantile(data[:, 1],0.75,method='higher'))"
      ],
      "metadata": {
        "colab": {
          "base_uri": "https://localhost:8080/"
        },
        "id": "wKVi-2Z1EooK",
        "outputId": "65b562c3-0467-424c-8a0f-50a32e81afb6"
      },
      "execution_count": 46,
      "outputs": [
        {
          "output_type": "execute_result",
          "data": {
            "text/plain": [
              "array([60, 25, 10, ..., 65,  5, 65], dtype=int32)"
            ]
          },
          "metadata": {},
          "execution_count": 46
        }
      ]
    },
    {
      "cell_type": "markdown",
      "metadata": {
        "id": "AI5Vg-ve8Up0"
      },
      "source": [
        "4. Посчитайте, для скольких рецептов указана продолжительность, равная нулю. Замените для таких строк значение в данном столбце на 1."
      ]
    },
    {
      "cell_type": "code",
      "source": [
        "print(np.count_nonzero (d1[:, 1] == 0))"
      ],
      "metadata": {
        "colab": {
          "base_uri": "https://localhost:8080/"
        },
        "id": "84JTJLpKFB6Q",
        "outputId": "166dc960-7f85-487b-da96-a4f4177f1442"
      },
      "execution_count": 47,
      "outputs": [
        {
          "output_type": "stream",
          "name": "stdout",
          "text": [
            "479\n"
          ]
        }
      ]
    },
    {
      "cell_type": "code",
      "source": [
        "print(np.place(data, data==0, 1))"
      ],
      "metadata": {
        "id": "5Wos0-qC6iIE",
        "colab": {
          "base_uri": "https://localhost:8080/"
        },
        "outputId": "d11e5372-e072-4c51-d56b-c4fb069a0f66"
      },
      "execution_count": 48,
      "outputs": [
        {
          "output_type": "stream",
          "name": "stdout",
          "text": [
            "None\n"
          ]
        }
      ]
    },
    {
      "cell_type": "code",
      "source": [
        "#Проверка\n",
        "print(np.count_nonzero (data[:, 1] == 1)-(np.count_nonzero (d1[:, 1] == 1)))"
      ],
      "metadata": {
        "colab": {
          "base_uri": "https://localhost:8080/"
        },
        "id": "sWGYHD_LNwH2",
        "outputId": "508da2ab-768c-492e-ab19-0f3cace22a8c"
      },
      "execution_count": 49,
      "outputs": [
        {
          "output_type": "stream",
          "name": "stdout",
          "text": [
            "479\n"
          ]
        }
      ]
    },
    {
      "cell_type": "markdown",
      "metadata": {
        "id": "RrreAKHN8Up0"
      },
      "source": [
        "5. Посчитайте, сколько уникальных рецептов находится в датасете."
      ]
    },
    {
      "cell_type": "code",
      "source": [
        "#уникальные рецепты - это рецепты, у которых не повторяются минуты и количество ингредиентов\n",
        "len(np.unique(sliced, axis=0))"
      ],
      "metadata": {
        "colab": {
          "base_uri": "https://localhost:8080/"
        },
        "id": "0Jc9JbH0FTTh",
        "outputId": "7f0a246b-8428-4f29-fbb1-90e9647bca0e"
      },
      "execution_count": 50,
      "outputs": [
        {
          "output_type": "execute_result",
          "data": {
            "text/plain": [
              "4183"
            ]
          },
          "metadata": {},
          "execution_count": 50
        }
      ]
    },
    {
      "cell_type": "markdown",
      "metadata": {
        "id": "9TOulopI8Up0"
      },
      "source": [
        "6. Сколько и каких различных значений кол-ва ингредиентов присутвует в рецептах из датасета?"
      ]
    },
    {
      "cell_type": "code",
      "source": [
        "print(np.unique(data[:, 2], axis=0))\n",
        "print(np.unique(data[:, 2], axis=0).size)"
      ],
      "metadata": {
        "colab": {
          "base_uri": "https://localhost:8080/"
        },
        "id": "x47KTrEsJqq7",
        "outputId": "87751019-cd24-4732-e264-2af6e731c892"
      },
      "execution_count": 51,
      "outputs": [
        {
          "output_type": "stream",
          "name": "stdout",
          "text": [
            "[ 1  2  3  4  5  6  7  8  9 10 11 12 13 14 15 16 17 18 19 20 21 22 23 24\n",
            " 25 26 27 28 29 30 31 32 33 34 35 37 39]\n",
            "37\n"
          ]
        }
      ]
    },
    {
      "cell_type": "markdown",
      "metadata": {
        "id": "jnktKdDV8Up0"
      },
      "source": [
        "7. Создайте версию массива, содержащую информацию только о рецептах, состоящих не более чем из 5 ингредиентов."
      ]
    },
    {
      "cell_type": "code",
      "source": [
        "data2 = data[np.where(data[:, 2] <= 5)]\n",
        "print(data2)"
      ],
      "metadata": {
        "colab": {
          "base_uri": "https://localhost:8080/"
        },
        "id": "Ii8tvukDKI5Z",
        "outputId": "ab68a0cb-4def-4c35-fd0b-0d7db36e8228"
      },
      "execution_count": 52,
      "outputs": [
        {
          "output_type": "stream",
          "name": "stdout",
          "text": [
            "[[446597     15      5]\n",
            " [204134      5      3]\n",
            " [ 25623      6      4]\n",
            " ...\n",
            " [ 52088     60      5]\n",
            " [128811     15      4]\n",
            " [370915      5      4]]\n"
          ]
        }
      ]
    },
    {
      "cell_type": "markdown",
      "metadata": {
        "id": "GF4W0BkH8Up0"
      },
      "source": [
        "8. Для каждого рецепта посчитайте, сколько в среднем ингредиентов приходится на одну минуту рецепта. Найдите максимальное значение этой величины для всего датасета"
      ]
    },
    {
      "cell_type": "code",
      "source": [
        "A = data[:, 1]\n",
        "B = data[:, 2]\n",
        "C = B/A\n",
        "print(C)\n",
        "data_c = [C]\n",
        "sliced = data_c[:]\n",
        "print(np.max(sliced,axis=1))"
      ],
      "metadata": {
        "colab": {
          "base_uri": "https://localhost:8080/"
        },
        "id": "AOX6I2hXYriQ",
        "outputId": "f0d8cec0-2bbe-48e9-f09c-5af79d619d82"
      },
      "execution_count": 53,
      "outputs": [
        {
          "output_type": "stream",
          "name": "stdout",
          "text": [
            "[0.26666667 0.28       0.6        ... 0.23076923 0.8        0.1       ]\n",
            "[24.]\n"
          ]
        }
      ]
    },
    {
      "cell_type": "markdown",
      "metadata": {
        "id": "iiHa7RZO8Up1"
      },
      "source": [
        "9. Вычислите среднее количество ингредиентов для топ-100 рецептов с наибольшей\n",
        "продолжительностью"
      ]
    },
    {
      "cell_type": "code",
      "source": [
        "d1_sorted_desc = d1[d1[:, 1]. argsort ()[::-1]]\n",
        "print(d1_sorted_desc)"
      ],
      "metadata": {
        "id": "8OMkIoCbxx-k",
        "colab": {
          "base_uri": "https://localhost:8080/"
        },
        "outputId": "9f4f8cca-6587-4055-ad49-99df863bd3e1"
      },
      "execution_count": 54,
      "outputs": [
        {
          "output_type": "stream",
          "name": "stdout",
          "text": [
            "[[    261647 2147483647          8]\n",
            " [    216215     259260          7]\n",
            " [    425681     259205          2]\n",
            " ...\n",
            " [     50748          0         12]\n",
            " [      5354          0          8]\n",
            " [      4896          0         14]]\n"
          ]
        }
      ]
    },
    {
      "cell_type": "code",
      "source": [
        "x = np.mean(d1_sorted_desc[:100,2], axis=0)\n",
        "x"
      ],
      "metadata": {
        "colab": {
          "base_uri": "https://localhost:8080/"
        },
        "id": "OkmKcUZDy8T8",
        "outputId": "eb3772a7-9e27-4074-8e77-fdc73a5e4d93"
      },
      "execution_count": 56,
      "outputs": [
        {
          "output_type": "execute_result",
          "data": {
            "text/plain": [
              "6.61"
            ]
          },
          "metadata": {},
          "execution_count": 56
        }
      ]
    },
    {
      "cell_type": "markdown",
      "metadata": {
        "id": "48i95Vbl8Up1"
      },
      "source": [
        "10. Выберите случайным образом и выведите информацию о 10 различных рецептах"
      ]
    },
    {
      "cell_type": "code",
      "source": [
        "index = np.random.randint(d1.shape[0], size=10)\n",
        "random_rows = d1[index, :]\n",
        "print(random_rows)"
      ],
      "metadata": {
        "colab": {
          "base_uri": "https://localhost:8080/"
        },
        "id": "hmWABJcRrQ4Y",
        "outputId": "f3c47688-b552-43e7-9973-b263ce8dfc98"
      },
      "execution_count": 57,
      "outputs": [
        {
          "output_type": "stream",
          "name": "stdout",
          "text": [
            "[[222397      6      3]\n",
            " [317907     35      7]\n",
            " [389560     15      5]\n",
            " [268410     70      7]\n",
            " [ 27510     65     14]\n",
            " [115414     65     10]\n",
            " [413672     90     18]\n",
            " [260354     70      6]\n",
            " [105591     50      5]\n",
            " [ 23736     65      7]]\n"
          ]
        }
      ]
    },
    {
      "cell_type": "markdown",
      "metadata": {
        "id": "CThabDjD8Up1"
      },
      "source": [
        "11. Выведите процент рецептов, кол-во ингредиентов в которых меньше среднего."
      ]
    },
    {
      "cell_type": "code",
      "source": [
        "sr1 =  data[:,2:]\n",
        "r = np.mean(sr1,axis=0)\n",
        "print(r) # cреднее значение инградиентов массива\n",
        "x = np.count_nonzero(sr1[:,:2:] <= r[:])\n",
        "print(x) # количество рецептов меньше среднего\n",
        "s = np.count_nonzero(sr1)\n",
        "print(s) # количество всего рецептов по массиву (100%)\n",
        "percent = x*100/s\n",
        "print(percent) # Ответ"
      ],
      "metadata": {
        "colab": {
          "base_uri": "https://localhost:8080/"
        },
        "id": "-qsxnpSG9mpG",
        "outputId": "e85308dd-6116-4e24-c760-3748ec046ede"
      },
      "execution_count": 163,
      "outputs": [
        {
          "output_type": "stream",
          "name": "stdout",
          "text": [
            "[9.05528]\n",
            "58802\n",
            "100000\n",
            "58.802\n"
          ]
        }
      ]
    },
    {
      "cell_type": "markdown",
      "metadata": {
        "id": "Em9g0JFZ8Up1"
      },
      "source": [
        "12. Назовем \"простым\" такой рецепт, длительность выполнения которого не больше 20 минут и кол-во ингредиентов в котором не больше 5. Создайте версию датасета с дополнительным столбцом, значениями которого являются 1, если рецепт простой, и 0 в противном случае."
      ]
    },
    {
      "cell_type": "code",
      "source": [
        "now1 = d1[(data[:, 1] <= 20) & (data[:, 2] <= 5)]\n",
        "now1"
      ],
      "metadata": {
        "colab": {
          "base_uri": "https://localhost:8080/"
        },
        "id": "VMI5pHh3tY-e",
        "outputId": "0ab05189-5cbe-497a-ff52-91861a5ab313"
      },
      "execution_count": 146,
      "outputs": [
        {
          "output_type": "execute_result",
          "data": {
            "text/plain": [
              "array([[446597,     15,      5],\n",
              "       [204134,      5,      3],\n",
              "       [ 25623,      6,      4],\n",
              "       ...,\n",
              "       [ 60756,     15,      5],\n",
              "       [128811,     15,      4],\n",
              "       [370915,      5,      4]], dtype=int32)"
            ]
          },
          "metadata": {},
          "execution_count": 146
        }
      ]
    },
    {
      "cell_type": "code",
      "source": [
        "now2 = d1[~(data[:, 1] <= 20) | ~(data[:, 2] <= 5)]\n",
        "now2"
      ],
      "metadata": {
        "colab": {
          "base_uri": "https://localhost:8080/"
        },
        "id": "ixj2JtdN-IFo",
        "outputId": "3f29b883-30c7-46b3-9a87-39993443c16c"
      },
      "execution_count": 184,
      "outputs": [
        {
          "output_type": "execute_result",
          "data": {
            "text/plain": [
              "array([[127244,     60,     16],\n",
              "       [ 23891,     25,      7],\n",
              "       [ 94746,     10,      6],\n",
              "       ...,\n",
              "       [287943,     85,     15],\n",
              "       [498432,     65,     15],\n",
              "       [ 81993,    140,     14]], dtype=int32)"
            ]
          },
          "metadata": {},
          "execution_count": 184
        }
      ]
    },
    {
      "cell_type": "code",
      "source": [],
      "metadata": {
        "id": "I3GktDHCHACg"
      },
      "execution_count": null,
      "outputs": []
    },
    {
      "cell_type": "markdown",
      "metadata": {
        "id": "BgoNxUeO8Up1"
      },
      "source": [
        "13. Выведите процент \"простых\" рецептов в датасете"
      ]
    },
    {
      "cell_type": "code",
      "source": [
        "s1 = np.count_nonzero(now1[::,2]) # количество простых рецептов\n",
        "s2 = np.count_nonzero(now2[:,2]) # количество не простых рецептов\n",
        "s3 = np.count_nonzero(d1[:,2]) # всего\n",
        "resultat = s1*100/s3\n",
        "print('Простых рецептов:', resultat,'%')"
      ],
      "metadata": {
        "id": "6Pm17fmhtQDa",
        "colab": {
          "base_uri": "https://localhost:8080/"
        },
        "outputId": "60a81697-af57-45cf-856e-9ff2c774d6ee"
      },
      "execution_count": 201,
      "outputs": [
        {
          "output_type": "stream",
          "name": "stdout",
          "text": [
            "Простых рецептов: 9.552 %\n"
          ]
        }
      ]
    },
    {
      "cell_type": "markdown",
      "metadata": {
        "id": "2-uzE4se8Up1"
      },
      "source": [
        "14. Разделим рецепты на группы по следующему правилу. Назовем рецепты короткими, если их продолжительность составляет менее 10 минут; стандартными, если их продолжительность составляет более 10, но менее 20 минут; и длинными, если их продолжительность составляет не менее 20 минут. Создайте трехмерный массив, где нулевая ось отвечает за номер группы (короткий, стандартный или длинный рецепт), первая ось - за сам рецепт и вторая ось - за характеристики рецепта. Выберите максимальное количество рецептов из каждой группы таким образом, чтобы было возможно сформировать трехмерный массив. Выведите форму полученного массива."
      ]
    },
    {
      "cell_type": "markdown",
      "source": [
        "оно мудреное очень))\n",
        "я сначала отдельным столбцом вычислил группу\n",
        "если больше 10, то плюс 1, если больше 20, то еще плюс 1\n",
        "потом через hstack присобачил ее к копии массива\n",
        "через unique нашел значения групп и количество в каждой\n",
        "взял минимальное кол-во в группе\n",
        "потом соорудил нулевой массив нужной формы и дальше его уже заполнял"
      ],
      "metadata": {
        "id": "v_nfLdxbAU_H"
      }
    }
  ],
  "metadata": {
    "kernelspec": {
      "display_name": "Python 3 (ipykernel)",
      "language": "python",
      "name": "python3"
    },
    "language_info": {
      "codemirror_mode": {
        "name": "ipython",
        "version": 3
      },
      "file_extension": ".py",
      "mimetype": "text/x-python",
      "name": "python",
      "nbconvert_exporter": "python",
      "pygments_lexer": "ipython3",
      "version": "3.9.12"
    },
    "colab": {
      "provenance": [],
      "include_colab_link": true
    }
  },
  "nbformat": 4,
  "nbformat_minor": 0
}