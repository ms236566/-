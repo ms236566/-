{
  "cells": [
    {
      "cell_type": "markdown",
      "metadata": {
        "id": "88laf5AW8Upr"
      },
      "source": [
        "l# Numpy"
      ]
    },
    {
      "cell_type": "markdown",
      "metadata": {
        "id": "InicJ7kM8Upv"
      },
      "source": [
        "Материалы:\n",
        "* Макрушин С.В. \"Лекция 1: Библиотека Numpy\"\n",
        "* https://numpy.org/doc/stable/user/index.html\n",
        "* https://numpy.org/doc/stable/reference/index.html"
      ]
    },
    {
      "cell_type": "markdown",
      "metadata": {
        "id": "AIKhR5ZT8Upv"
      },
      "source": [
        "## Задачи для совместного разбора"
      ]
    },
    {
      "cell_type": "markdown",
      "metadata": {
        "id": "QMHD2cp18Upw"
      },
      "source": [
        "1. Сгенерировать двухмерный массив `arr` размерности (4, 7), состоящий из случайных действительных чисел, равномерно распределенных в диапазоне от 0 до 20. Нормализовать значения массива с помощью преобразования вида  $𝑎𝑥+𝑏$  так, что после нормализации максимальный элемент масcива будет равен 1.0, минимальный 0.0"
      ]
    },
    {
      "cell_type": "code",
      "execution_count": null,
      "metadata": {
        "id": "Jr3m2t2H8Upw"
      },
      "outputs": [],
      "source": [
        "import numpy as np"
      ]
    },
    {
      "cell_type": "code",
      "execution_count": null,
      "metadata": {
        "colab": {
          "base_uri": "https://localhost:8080/"
        },
        "id": "5S8pzQPF8Upx",
        "outputId": "a1cf3b8e-b914-4944-8855-2b1bd06bec3a"
      },
      "outputs": [
        {
          "output_type": "execute_result",
          "data": {
            "text/plain": [
              "array([[ 1, 18,  2,  7, 19,  1,  9],\n",
              "       [ 5,  2,  2, 16,  6,  8, 18],\n",
              "       [16,  0, 15,  1, 15,  9,  5],\n",
              "       [12,  3,  9,  9,  3,  5, 10]])"
            ]
          },
          "metadata": {},
          "execution_count": 37
        }
      ],
      "source": [
        "np.random.randint(0, 20, size = (4, 7))"
      ]
    },
    {
      "cell_type": "markdown",
      "source": [],
      "metadata": {
        "id": "J7a0Rhs986zu"
      }
    },
    {
      "cell_type": "code",
      "source": [
        "data = np.random.uniform(0, 20, size = (4, 7))\n",
        "print(data)\n",
        "(data-np.min(data))/(np.max(data)-np.min(data))"
      ],
      "metadata": {
        "colab": {
          "base_uri": "https://localhost:8080/"
        },
        "id": "K03wgBPM9DPr",
        "outputId": "2a1dc775-4155-453f-d978-66442cc8945e"
      },
      "execution_count": null,
      "outputs": [
        {
          "output_type": "stream",
          "name": "stdout",
          "text": [
            "[[ 9.65210085 14.29429956 13.80916237  3.87677485 15.79085319  7.71327526\n",
            "   9.06102786]\n",
            " [14.29353185 12.0982555  15.56700058  6.43420773  9.88843517 19.1072886\n",
            "   0.50213662]\n",
            " [12.22117567  4.40180819  3.01188655  3.00151326  9.85165729  4.63169857\n",
            "  12.10098898]\n",
            " [ 2.33095243 12.37717128 15.15141479 10.36587093  6.3523616  16.50630985\n",
            "  10.41034337]]\n"
          ]
        },
        {
          "output_type": "execute_result",
          "data": {
            "text/plain": [
              "array([[0.49179734, 0.7413088 , 0.71523338, 0.18138192, 0.8217464 ,\n",
              "        0.38758827, 0.46002802],\n",
              "       [0.74126754, 0.62327461, 0.80971464, 0.31884024, 0.50449997,\n",
              "        1.        , 0.        ],\n",
              "       [0.62988139, 0.2096017 , 0.13489543, 0.13433788, 0.50252321,\n",
              "        0.22195798, 0.62342153],\n",
              "       [0.0982962 , 0.63826593, 0.78737751, 0.53016145, 0.31444113,\n",
              "        0.86020116, 0.53255178]])"
            ]
          },
          "metadata": {},
          "execution_count": 38
        }
      ]
    },
    {
      "cell_type": "markdown",
      "metadata": {
        "id": "NlmuLBKe8Upy"
      },
      "source": [
        "2. Создать матрицу 8 на 10 из случайных целых (используя модуль `numpy.random`) чисел из диапозона от 0 до 10 и найти в ней строку (ее индекс и вывести саму строку), в которой сумма значений минимальна."
      ]
    },
    {
      "cell_type": "code",
      "execution_count": null,
      "metadata": {
        "colab": {
          "base_uri": "https://localhost:8080/"
        },
        "id": "Igf2bz5g8Upy",
        "outputId": "0c27bcb1-47f6-49fa-e9b0-a67f5b82cbfe"
      },
      "outputs": [
        {
          "output_type": "execute_result",
          "data": {
            "text/plain": [
              "array([[0, 6, 2, 4, 5, 3, 3, 5, 5, 8],\n",
              "       [4, 7, 0, 3, 3, 8, 8, 5, 9, 4],\n",
              "       [5, 6, 6, 9, 0, 8, 8, 7, 4, 4],\n",
              "       [6, 1, 9, 0, 0, 4, 5, 4, 7, 3],\n",
              "       [9, 2, 8, 0, 4, 4, 9, 5, 9, 9],\n",
              "       [9, 6, 0, 1, 6, 1, 1, 8, 0, 1],\n",
              "       [1, 3, 9, 1, 2, 5, 7, 6, 8, 9],\n",
              "       [2, 9, 4, 7, 4, 3, 8, 4, 2, 8]])"
            ]
          },
          "metadata": {},
          "execution_count": 39
        }
      ],
      "source": [
        "np.random.randint(0, 10, size = (8, 10))"
      ]
    },
    {
      "cell_type": "code",
      "source": [
        "arr = np.random.randint(0, 10, size = (8, 10))\n",
        "print(arr)\n",
        "print(\"Row Index\",np.argmin(np.sum(arr, axis=1)))\n",
        "arr[np.argmin(np.sum(arr, axis=1))]"
      ],
      "metadata": {
        "colab": {
          "base_uri": "https://localhost:8080/"
        },
        "id": "1B6w-GAYCKqA",
        "outputId": "9a043ec0-fec5-4b17-8320-6e6e581f5e82"
      },
      "execution_count": null,
      "outputs": [
        {
          "output_type": "stream",
          "name": "stdout",
          "text": [
            "[[5 2 6 7 4 2 2 0 3 9]\n",
            " [8 5 4 7 4 4 5 2 9 9]\n",
            " [5 3 9 8 4 7 5 2 2 8]\n",
            " [5 2 4 8 6 1 8 8 5 9]\n",
            " [3 9 1 7 4 6 8 0 8 0]\n",
            " [9 4 0 6 9 8 8 3 5 7]\n",
            " [4 7 2 2 5 8 1 4 0 5]\n",
            " [2 7 2 3 9 7 2 5 2 2]]\n",
            "Row Index 6\n"
          ]
        },
        {
          "output_type": "execute_result",
          "data": {
            "text/plain": [
              "array([4, 7, 2, 2, 5, 8, 1, 4, 0, 5])"
            ]
          },
          "metadata": {},
          "execution_count": 40
        }
      ]
    },
    {
      "cell_type": "markdown",
      "metadata": {
        "id": "pdWTuG6e8Upz"
      },
      "source": [
        "3. Найти евклидово расстояние между двумя одномерными векторами одинаковой размерности."
      ]
    },
    {
      "cell_type": "code",
      "source": [
        "point_1 = np.random.randint(0, 20, size=5)\n",
        "point_2 = np.random.randint(0, 20, size=5)\n",
        "print(point_1)\n",
        "print(point_2)\n",
        "#first way\n",
        "square = np.square(point_1 - point_2)\n",
        "sum_square = np.sum(square)\n",
        "print(np.sqrt(sum_square))\n",
        "#second way\n",
        "distance = np.linalg.norm(point_1-point_2)\n",
        "print(distance)"
      ],
      "metadata": {
        "colab": {
          "base_uri": "https://localhost:8080/"
        },
        "id": "idCnBOCQCSty",
        "outputId": "1a1e9227-e5b2-4c26-b790-5ec292a508a4"
      },
      "execution_count": null,
      "outputs": [
        {
          "output_type": "stream",
          "name": "stdout",
          "text": [
            "[ 7 18 18  9  5]\n",
            "[ 9  4  8 15 12]\n",
            "19.621416870348583\n",
            "19.621416870348583\n"
          ]
        }
      ]
    },
    {
      "cell_type": "code",
      "execution_count": null,
      "metadata": {
        "id": "N7r8F4p38Upz"
      },
      "outputs": [],
      "source": [
        "import matplotlib.pyplot as pl\n",
        "from mpl_toolkits.mplot3d import Axes3D"
      ]
    },
    {
      "cell_type": "markdown",
      "metadata": {
        "id": "Q4QoWM9K8Upz"
      },
      "source": [
        "4. Решить матричное уравнение `A*X*B=-C` - найти матрицу `X`. Где `A = [[-1, 2, 4], [-3, 1, 2], [-3, 0, 1]]`, `B=[[3, -1], [2, 1]]`, `C=[[7, 21], [11, 8], [8, 4]]`."
      ]
    },
    {
      "cell_type": "code",
      "source": [
        "a = np.array([[-1, 2, 4], [-3, 1, 2], [-3, 0, 1]])\n",
        "b = np.array([[3, -1], [2, 1]])\n",
        "c = np.array([[7, 21], [11, 8], [8, 4]])\n",
        "#решение: x = a^-1*(-c)*b^-1\n",
        "\n",
        "x0 = np.matmul(np.linalg.inv(a),(-c))\n",
        "print(x0)\n",
        "x =  np.matmul(x0,np.linalg.inv(b))\n",
        "print(x)"
      ],
      "metadata": {
        "colab": {
          "base_uri": "https://localhost:8080/"
        },
        "id": "N3FdXTSaDA-g",
        "outputId": "8b0a129b-4eb7-4a87-deb7-27a1a45049a8"
      },
      "execution_count": null,
      "outputs": [
        {
          "output_type": "stream",
          "name": "stdout",
          "text": [
            "[[ 3. -1.]\n",
            " [-4.  3.]\n",
            " [ 1. -7.]]\n",
            "[[ 1.00000000e+00  5.32907052e-16]\n",
            " [-2.00000000e+00  1.00000000e+00]\n",
            " [ 3.00000000e+00 -4.00000000e+00]]\n"
          ]
        }
      ]
    },
    {
      "cell_type": "markdown",
      "metadata": {
        "id": "YIBAQ5ez8Upz"
      },
      "source": [
        "## Лабораторная работа №1"
      ]
    },
    {
      "cell_type": "markdown",
      "metadata": {
        "id": "acsiP3VP8Up0"
      },
      "source": [
        "Замечание: при решении данных задач не подразумевается использования циклов или генераторов Python, если в задании не сказано обратного. Решение должно опираться на использования функционала библиотеки `numpy`."
      ]
    },
    {
      "cell_type": "markdown",
      "metadata": {
        "id": "CaK5tb4r8Up0"
      },
      "source": [
        "1. Файл `minutes_n_ingredients.csv` содержит информацию об идентификаторе рецепта, времени его выполнения в минутах и количестве необходимых ингредиентов. Считайте данные из этого файла в виде массива `numpy` типа `int32`, используя `np.loadtxt`. Выведите на экран первые 5 строк массива."
      ]
    },
    {
      "cell_type": "code",
      "source": [
        "from google.colab import drive\n",
        "drive.mount('/content/drive')"
      ],
      "metadata": {
        "colab": {
          "base_uri": "https://localhost:8080/"
        },
        "id": "D6n_WpIF1qKL",
        "outputId": "9deea313-3d3f-4e27-b343-cf488a5eccc3"
      },
      "execution_count": null,
      "outputs": [
        {
          "output_type": "stream",
          "name": "stdout",
          "text": [
            "Mounted at /content/drive\n"
          ]
        }
      ]
    },
    {
      "cell_type": "code",
      "source": [
        "data = np.loadtxt(\"/content/drive/MyDrive/L/minutes_n_ingredients.csv\", delimiter=',', skiprows=1, dtype=np.int32)\n",
        "# first 5 rows\n",
        "print(data[0:5, :])"
      ],
      "metadata": {
        "colab": {
          "base_uri": "https://localhost:8080/"
        },
        "id": "ArhCq9TuDbFf",
        "outputId": "2ce827b1-3b39-4dcc-ea71-2b8e790952e7"
      },
      "execution_count": null,
      "outputs": [
        {
          "output_type": "stream",
          "name": "stdout",
          "text": [
            "[[127244     60     16]\n",
            " [ 23891     25      7]\n",
            " [ 94746     10      6]\n",
            " [ 67660      5      6]\n",
            " [157911     60     14]]\n"
          ]
        }
      ]
    },
    {
      "cell_type": "code",
      "source": [
        "d1 = data.copy()"
      ],
      "metadata": {
        "id": "j5FulXPt-tri"
      },
      "execution_count": null,
      "outputs": []
    },
    {
      "cell_type": "markdown",
      "metadata": {
        "id": "yKAWaO6E8Up0"
      },
      "source": [
        "2. Вычислите среднее значение, минимум, максимум и медиану по каждому из столбцов, кроме первого."
      ]
    },
    {
      "cell_type": "code",
      "source": [
        "#делаем срез массива, извлекаем все кроме первого массива\n",
        "sliced = data[:,1:]\n",
        "# находим среднее по столбцам среза\n",
        "print(np.mean(sliced,axis=0))\n",
        "# находим минимум по столбцам среза\n",
        "print(np.min(sliced, axis=0))\n",
        "# находим максимум по столбцам среза\n",
        "print(np.max(sliced, axis=0))\n",
        "# находим медиану по столбцам среза\n",
        "print(np.median(sliced, axis=0))"
      ],
      "metadata": {
        "colab": {
          "base_uri": "https://localhost:8080/"
        },
        "id": "j5mLBrNkEajU",
        "outputId": "28c0b6cf-59d2-4333-b9a5-4110a289e752"
      },
      "execution_count": null,
      "outputs": [
        {
          "output_type": "stream",
          "name": "stdout",
          "text": [
            "[2.16010017e+04 9.05528000e+00]\n",
            "[0 1]\n",
            "[2147483647         39]\n",
            "[40.  9.]\n"
          ]
        }
      ]
    },
    {
      "cell_type": "markdown",
      "metadata": {
        "id": "5lmY06sT8Up0"
      },
      "source": [
        "3. Ограничьте сверху значения продолжительности выполнения рецепта значением квантиля $q_{0.75}$."
      ]
    },
    {
      "cell_type": "code",
      "source": [
        "np.clip(data[:, 1],0,np.quantile(data[:, 1],0.75,method='higher'))"
      ],
      "metadata": {
        "colab": {
          "base_uri": "https://localhost:8080/"
        },
        "id": "wKVi-2Z1EooK",
        "outputId": "16f13cd4-427c-45b1-a7b1-18a25f844d53"
      },
      "execution_count": null,
      "outputs": [
        {
          "output_type": "execute_result",
          "data": {
            "text/plain": [
              "array([60, 25, 10, ..., 65,  5, 65], dtype=int32)"
            ]
          },
          "metadata": {},
          "execution_count": 48
        }
      ]
    },
    {
      "cell_type": "markdown",
      "metadata": {
        "id": "AI5Vg-ve8Up0"
      },
      "source": [
        "4. Посчитайте, для скольких рецептов указана продолжительность, равная нулю. Замените для таких строк значение в данном столбце на 1."
      ]
    },
    {
      "cell_type": "code",
      "source": [
        "print(np.count_nonzero (d1[:, 1] == 0))"
      ],
      "metadata": {
        "colab": {
          "base_uri": "https://localhost:8080/"
        },
        "id": "84JTJLpKFB6Q",
        "outputId": "19830efd-6ea1-4a98-a394-fc24928dd64e"
      },
      "execution_count": null,
      "outputs": [
        {
          "output_type": "stream",
          "name": "stdout",
          "text": [
            "479\n"
          ]
        }
      ]
    },
    {
      "cell_type": "code",
      "source": [
        "print(np.place(data, data==0, 1))"
      ],
      "metadata": {
        "id": "5Wos0-qC6iIE",
        "colab": {
          "base_uri": "https://localhost:8080/"
        },
        "outputId": "2f1b0c99-5d34-4741-ed52-47b397131d51"
      },
      "execution_count": null,
      "outputs": [
        {
          "output_type": "stream",
          "name": "stdout",
          "text": [
            "None\n"
          ]
        }
      ]
    },
    {
      "cell_type": "markdown",
      "metadata": {
        "id": "RrreAKHN8Up0"
      },
      "source": [
        "5. Посчитайте, сколько уникальных рецептов находится в датасете."
      ]
    },
    {
      "cell_type": "code",
      "source": [
        "#уникальные рецепты - это рецепты, у которых не повторяются минуты и количество ингредиентов\n",
        "len(np.unique(sliced, axis=0))"
      ],
      "metadata": {
        "colab": {
          "base_uri": "https://localhost:8080/"
        },
        "id": "0Jc9JbH0FTTh",
        "outputId": "e5a454c3-42e1-44fb-959d-12f386ad5e0c"
      },
      "execution_count": null,
      "outputs": [
        {
          "output_type": "execute_result",
          "data": {
            "text/plain": [
              "4183"
            ]
          },
          "metadata": {},
          "execution_count": 51
        }
      ]
    },
    {
      "cell_type": "markdown",
      "metadata": {
        "id": "9TOulopI8Up0"
      },
      "source": [
        "6. Сколько и каких различных значений кол-ва ингредиентов присутвует в рецептах из датасета?"
      ]
    },
    {
      "cell_type": "code",
      "source": [
        "print(np.unique(data[:, 2], axis=0))\n",
        "print(np.unique(data[:, 2], axis=0).size)"
      ],
      "metadata": {
        "colab": {
          "base_uri": "https://localhost:8080/"
        },
        "id": "x47KTrEsJqq7",
        "outputId": "87568c87-b41a-4d58-d207-416455f41602"
      },
      "execution_count": null,
      "outputs": [
        {
          "output_type": "stream",
          "name": "stdout",
          "text": [
            "[ 1  2  3  4  5  6  7  8  9 10 11 12 13 14 15 16 17 18 19 20 21 22 23 24\n",
            " 25 26 27 28 29 30 31 32 33 34 35 37 39]\n",
            "37\n"
          ]
        }
      ]
    },
    {
      "cell_type": "markdown",
      "metadata": {
        "id": "jnktKdDV8Up0"
      },
      "source": [
        "7. Создайте версию массива, содержащую информацию только о рецептах, состоящих не более чем из 5 ингредиентов."
      ]
    },
    {
      "cell_type": "code",
      "source": [
        "data2 = data[np.where(data[:, 2] <= 5)]\n",
        "print(data2)"
      ],
      "metadata": {
        "colab": {
          "base_uri": "https://localhost:8080/"
        },
        "id": "Ii8tvukDKI5Z",
        "outputId": "571d6e01-308c-4997-cac3-2be412f2d77e"
      },
      "execution_count": null,
      "outputs": [
        {
          "output_type": "stream",
          "name": "stdout",
          "text": [
            "[[446597     15      5]\n",
            " [204134      5      3]\n",
            " [ 25623      6      4]\n",
            " ...\n",
            " [ 52088     60      5]\n",
            " [128811     15      4]\n",
            " [370915      5      4]]\n"
          ]
        }
      ]
    },
    {
      "cell_type": "markdown",
      "metadata": {
        "id": "GF4W0BkH8Up0"
      },
      "source": [
        "8. Для каждого рецепта посчитайте, сколько в среднем ингредиентов приходится на одну минуту рецепта. Найдите максимальное значение этой величины для всего датасета"
      ]
    },
    {
      "cell_type": "code",
      "source": [
        "A = data[:, 1]\n",
        "B = data[:, 2]\n",
        "C = B/A\n",
        "print(C)\n",
        "data_c = [C]\n",
        "sliced = data_c[:]\n",
        "print(np.max(sliced,axis=1))"
      ],
      "metadata": {
        "colab": {
          "base_uri": "https://localhost:8080/"
        },
        "id": "AOX6I2hXYriQ",
        "outputId": "dec15126-219c-41e0-f9b6-0a801c867a70"
      },
      "execution_count": null,
      "outputs": [
        {
          "output_type": "stream",
          "name": "stdout",
          "text": [
            "[0.26666667 0.28       0.6        ... 0.23076923 0.8        0.1       ]\n",
            "[24.]\n"
          ]
        }
      ]
    },
    {
      "cell_type": "markdown",
      "metadata": {
        "id": "iiHa7RZO8Up1"
      },
      "source": [
        "9. Вычислите среднее количество ингредиентов для топ-100 рецептов с наибольшей\n",
        "продолжительностью"
      ]
    },
    {
      "cell_type": "code",
      "source": [
        "d1_sorted_desc = d1[d1[:, 1]. argsort ()[::-1]]\n",
        "print(d1_sorted_desc)"
      ],
      "metadata": {
        "id": "8OMkIoCbxx-k",
        "colab": {
          "base_uri": "https://localhost:8080/"
        },
        "outputId": "0e9925e5-aa42-431b-f1bb-44597d269560"
      },
      "execution_count": null,
      "outputs": [
        {
          "output_type": "stream",
          "name": "stdout",
          "text": [
            "[[    261647 2147483647          8]\n",
            " [    216215     259260          7]\n",
            " [    425681     259205          2]\n",
            " ...\n",
            " [     50748          0         12]\n",
            " [      5354          0          8]\n",
            " [      4896          0         14]]\n"
          ]
        }
      ]
    },
    {
      "cell_type": "code",
      "source": [
        "x = np.mean(d1_sorted_desc[:100,2], axis=0)\n",
        "x"
      ],
      "metadata": {
        "colab": {
          "base_uri": "https://localhost:8080/"
        },
        "id": "OkmKcUZDy8T8",
        "outputId": "4fbfd4fe-e617-4a68-e8d4-776932721837"
      },
      "execution_count": null,
      "outputs": [
        {
          "output_type": "execute_result",
          "data": {
            "text/plain": [
              "6.61"
            ]
          },
          "metadata": {},
          "execution_count": 56
        }
      ]
    },
    {
      "cell_type": "markdown",
      "metadata": {
        "id": "48i95Vbl8Up1"
      },
      "source": [
        "10. Выберите случайным образом и выведите информацию о 10 различных рецептах"
      ]
    },
    {
      "cell_type": "code",
      "source": [
        "index = np.random.randint(d1.shape[0], size=10)\n",
        "random_rows = d1[index, :]\n",
        "print(random_rows)"
      ],
      "metadata": {
        "colab": {
          "base_uri": "https://localhost:8080/"
        },
        "id": "hmWABJcRrQ4Y",
        "outputId": "dc5f6624-d362-434f-aede-d1fb19438c47"
      },
      "execution_count": null,
      "outputs": [
        {
          "output_type": "stream",
          "name": "stdout",
          "text": [
            "[[ 38502    250      5]\n",
            " [277707     60      8]\n",
            " [ 87534     25      8]\n",
            " [ 69143     25      6]\n",
            " [126063     80     12]\n",
            " [197945     20      3]\n",
            " [ 65968     75     10]\n",
            " [ 17206     10      6]\n",
            " [362849     35     14]\n",
            " [293574    150      7]]\n"
          ]
        }
      ]
    },
    {
      "cell_type": "markdown",
      "metadata": {
        "id": "CThabDjD8Up1"
      },
      "source": [
        "11. Выведите процент рецептов, кол-во ингредиентов в которых меньше среднего."
      ]
    },
    {
      "cell_type": "code",
      "source": [
        "sr1 =  data[:,2:]\n",
        "r = np.mean(sr1,axis=0)\n",
        "print(r) # cреднее значение инградиентов массива\n",
        "x = np.count_nonzero(sr1[:,:2:] <= r[:])\n",
        "print(x) # количество рецептов меньше среднего\n",
        "s = np.count_nonzero(sr1)\n",
        "print(s) # количество всего рецептов по массиву (100%)\n",
        "percent = x*100/s\n",
        "print(percent) # Ответ"
      ],
      "metadata": {
        "colab": {
          "base_uri": "https://localhost:8080/"
        },
        "id": "-qsxnpSG9mpG",
        "outputId": "245d3b2e-5d09-4b5b-f001-c35338230167"
      },
      "execution_count": null,
      "outputs": [
        {
          "output_type": "stream",
          "name": "stdout",
          "text": [
            "[9.05528]\n",
            "58802\n",
            "100000\n",
            "58.802\n"
          ]
        }
      ]
    },
    {
      "cell_type": "markdown",
      "metadata": {
        "id": "Em9g0JFZ8Up1"
      },
      "source": [
        "12. Назовем \"простым\" такой рецепт, длительность выполнения которого не больше 20 минут и кол-во ингредиентов в котором не больше 5. Создайте версию датасета с дополнительным столбцом, значениями которого являются 1, если рецепт простой, и 0 в противном случае."
      ]
    },
    {
      "cell_type": "code",
      "source": [
        "h1 = d1.copy()"
      ],
      "metadata": {
        "id": "4DVVP5KN3lj2"
      },
      "execution_count": null,
      "outputs": []
    },
    {
      "cell_type": "code",
      "source": [
        "now1 = h1[(h1[:, 1] <= 20) & (h1[:, 2] <= 5)]\n",
        "now1"
      ],
      "metadata": {
        "colab": {
          "base_uri": "https://localhost:8080/"
        },
        "id": "VMI5pHh3tY-e",
        "outputId": "15c89c5a-4a21-4a38-ef58-dd5c7176bb5f"
      },
      "execution_count": null,
      "outputs": [
        {
          "output_type": "execute_result",
          "data": {
            "text/plain": [
              "array([[446597,     15,      5],\n",
              "       [204134,      5,      3],\n",
              "       [ 25623,      6,      4],\n",
              "       ...,\n",
              "       [ 60756,     15,      5],\n",
              "       [128811,     15,      4],\n",
              "       [370915,      5,      4]], dtype=int32)"
            ]
          },
          "metadata": {},
          "execution_count": 60
        }
      ]
    },
    {
      "cell_type": "code",
      "source": [
        "now1.shape"
      ],
      "metadata": {
        "colab": {
          "base_uri": "https://localhost:8080/"
        },
        "id": "A4JLtWuqkiXK",
        "outputId": "f5232d77-a158-48d2-bc32-77af2e3d914e"
      },
      "execution_count": null,
      "outputs": [
        {
          "output_type": "execute_result",
          "data": {
            "text/plain": [
              "(9552, 3)"
            ]
          },
          "metadata": {},
          "execution_count": 61
        }
      ]
    },
    {
      "cell_type": "code",
      "source": [
        "h2 = np.zeros((9552,1))\n",
        "h2"
      ],
      "metadata": {
        "colab": {
          "base_uri": "https://localhost:8080/"
        },
        "id": "x2ld1JF2ksoA",
        "outputId": "244d76bc-e3a4-4c2e-80ad-c21afd04387e"
      },
      "execution_count": null,
      "outputs": [
        {
          "output_type": "execute_result",
          "data": {
            "text/plain": [
              "array([[0.],\n",
              "       [0.],\n",
              "       [0.],\n",
              "       ...,\n",
              "       [0.],\n",
              "       [0.],\n",
              "       [0.]])"
            ]
          },
          "metadata": {},
          "execution_count": 62
        }
      ]
    },
    {
      "cell_type": "code",
      "source": [
        "h5 = np.hstack((now1, h2))\n",
        "h5"
      ],
      "metadata": {
        "colab": {
          "base_uri": "https://localhost:8080/"
        },
        "id": "Uy978EYalGOc",
        "outputId": "fa7e4610-74e1-47a1-f36a-7c693989a4e3"
      },
      "execution_count": null,
      "outputs": [
        {
          "output_type": "execute_result",
          "data": {
            "text/plain": [
              "array([[4.46597e+05, 1.50000e+01, 5.00000e+00, 0.00000e+00],\n",
              "       [2.04134e+05, 5.00000e+00, 3.00000e+00, 0.00000e+00],\n",
              "       [2.56230e+04, 6.00000e+00, 4.00000e+00, 0.00000e+00],\n",
              "       ...,\n",
              "       [6.07560e+04, 1.50000e+01, 5.00000e+00, 0.00000e+00],\n",
              "       [1.28811e+05, 1.50000e+01, 4.00000e+00, 0.00000e+00],\n",
              "       [3.70915e+05, 5.00000e+00, 4.00000e+00, 0.00000e+00]])"
            ]
          },
          "metadata": {},
          "execution_count": 63
        }
      ]
    },
    {
      "cell_type": "markdown",
      "metadata": {
        "id": "BgoNxUeO8Up1"
      },
      "source": [
        "13. Выведите процент \"простых\" рецептов в датасете"
      ]
    },
    {
      "cell_type": "code",
      "source": [
        "s1 = np.count_nonzero(now1[::,2]) # количество простых рецептов\n",
        "s3 = np.count_nonzero(d1[:,2]) # всего\n",
        "resultat = s1*100/s3\n",
        "print('Простых рецептов:', resultat,'%')"
      ],
      "metadata": {
        "id": "6Pm17fmhtQDa",
        "colab": {
          "base_uri": "https://localhost:8080/"
        },
        "outputId": "aac30c1a-13de-4ac7-8160-896cffdc5c88"
      },
      "execution_count": null,
      "outputs": [
        {
          "output_type": "stream",
          "name": "stdout",
          "text": [
            "Простых рецептов: 9.552 %\n"
          ]
        }
      ]
    },
    {
      "cell_type": "markdown",
      "metadata": {
        "id": "2-uzE4se8Up1"
      },
      "source": [
        "14. Разделим рецепты на группы по следующему правилу. Назовем рецепты короткими, если их продолжительность составляет менее 10 минут; стандартными, если их продолжительность составляет более 10, но менее 20 минут; и длинными, если их продолжительность составляет не менее 20 минут. Создайте трехмерный массив, где нулевая ось отвечает за номер группы (короткий, стандартный или длинный рецепт), первая ось - за сам рецепт и вторая ось - за характеристики рецепта. Выберите максимальное количество рецептов из каждой группы таким образом, чтобы было возможно сформировать трехмерный массив. Выведите форму полученного массива."
      ]
    },
    {
      "cell_type": "code",
      "source": [
        "v1 = h1[(h1[:, 1] < 10)] # короткий рецепт\n",
        "v2 = h1[(h1[:, 1] >= 10) & (h1[:, 1] < 20)]  # стандартный рецепт\n",
        "v3 = h1[(h1[:, 1] >= 20)] # длинный рецепт\n",
        "print(v1.shape, v2.shape, v3.shape)\n",
        "v1"
      ],
      "metadata": {
        "colab": {
          "base_uri": "https://localhost:8080/"
        },
        "id": "1NbgmeoUtXJO",
        "outputId": "a2672c5b-478b-4bf0-d184-040590baa4e4"
      },
      "execution_count": null,
      "outputs": [
        {
          "output_type": "stream",
          "name": "stdout",
          "text": [
            "(7588, 3) (12661, 3) (79751, 3)\n"
          ]
        },
        {
          "output_type": "execute_result",
          "data": {
            "text/plain": [
              "array([[ 67660,      5,      6],\n",
              "       [366174,      7,      9],\n",
              "       [204134,      5,      3],\n",
              "       ...,\n",
              "       [420725,      5,      3],\n",
              "       [  4747,      0,      9],\n",
              "       [370915,      5,      4]], dtype=int32)"
            ]
          },
          "metadata": {},
          "execution_count": 218
        }
      ]
    },
    {
      "cell_type": "code",
      "source": [
        "n = {'1': 'v1','2':'v2','3': 'v3'}\n",
        "n"
      ],
      "metadata": {
        "colab": {
          "base_uri": "https://localhost:8080/"
        },
        "id": "7w7PtPnTlANg",
        "outputId": "7bef7066-bcbf-4840-f5f8-8ef39372ec58"
      },
      "execution_count": null,
      "outputs": [
        {
          "output_type": "execute_result",
          "data": {
            "text/plain": [
              "{'1': 'v1', '2': 'v2', '3': 'v3'}"
            ]
          },
          "metadata": {},
          "execution_count": 219
        }
      ]
    },
    {
      "cell_type": "code",
      "source": [
        "v2 = v1\n",
        "v3 = v2\n",
        "v1 = v3\n",
        "print(v1.shape, v2.shape, v3.shape)\n",
        "v2"
      ],
      "metadata": {
        "colab": {
          "base_uri": "https://localhost:8080/"
        },
        "id": "CQYoxOV9wFya",
        "outputId": "32d6e80a-68da-4150-c7e9-cde92b54e868"
      },
      "execution_count": null,
      "outputs": [
        {
          "output_type": "stream",
          "name": "stdout",
          "text": [
            "(7588, 3) (7588, 3) (7588, 3)\n"
          ]
        },
        {
          "output_type": "execute_result",
          "data": {
            "text/plain": [
              "array([[ 67660,      5,      6],\n",
              "       [366174,      7,      9],\n",
              "       [204134,      5,      3],\n",
              "       ...,\n",
              "       [420725,      5,      3],\n",
              "       [  4747,      0,      9],\n",
              "       [370915,      5,      4]], dtype=int32)"
            ]
          },
          "metadata": {},
          "execution_count": 220
        }
      ]
    },
    {
      "cell_type": "code",
      "source": [
        "result = np.stack((v1, v2, v3), axis = 0)\n",
        "print(result)"
      ],
      "metadata": {
        "colab": {
          "base_uri": "https://localhost:8080/"
        },
        "id": "x9MFPtt9WdXo",
        "outputId": "62dd791a-2df4-4486-b62c-c0bc12f3f802"
      },
      "execution_count": null,
      "outputs": [
        {
          "output_type": "stream",
          "name": "stdout",
          "text": [
            "[[[ 67660      5      6]\n",
            "  [366174      7      9]\n",
            "  [204134      5      3]\n",
            "  ...\n",
            "  [420725      5      3]\n",
            "  [  4747      0      9]\n",
            "  [370915      5      4]]\n",
            "\n",
            " [[ 67660      5      6]\n",
            "  [366174      7      9]\n",
            "  [204134      5      3]\n",
            "  ...\n",
            "  [420725      5      3]\n",
            "  [  4747      0      9]\n",
            "  [370915      5      4]]\n",
            "\n",
            " [[ 67660      5      6]\n",
            "  [366174      7      9]\n",
            "  [204134      5      3]\n",
            "  ...\n",
            "  [420725      5      3]\n",
            "  [  4747      0      9]\n",
            "  [370915      5      4]]]\n"
          ]
        }
      ]
    }
  ],
  "metadata": {
    "kernelspec": {
      "display_name": "Python 3 (ipykernel)",
      "language": "python",
      "name": "python3"
    },
    "language_info": {
      "codemirror_mode": {
        "name": "ipython",
        "version": 3
      },
      "file_extension": ".py",
      "mimetype": "text/x-python",
      "name": "python",
      "nbconvert_exporter": "python",
      "pygments_lexer": "ipython3",
      "version": "3.9.12"
    },
    "colab": {
      "provenance": []
    }
  },
  "nbformat": 4,
  "nbformat_minor": 0
}