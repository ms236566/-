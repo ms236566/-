{
  "nbformat": 4,
  "nbformat_minor": 0,
  "metadata": {
    "colab": {
      "provenance": [],
      "authorship_tag": "ABX9TyMLR5dIH9FiNj1A8GlyuwTq",
      "include_colab_link": true
    },
    "kernelspec": {
      "name": "python3",
      "display_name": "Python 3"
    },
    "language_info": {
      "name": "python"
    }
  },
  "cells": [
    {
      "cell_type": "markdown",
      "metadata": {
        "id": "view-in-github",
        "colab_type": "text"
      },
      "source": [
        "<a href=\"https://colab.research.google.com/github/ms236566/-/blob/main/14_%D0%9F%D1%80%D0%B0%D0%BA%D1%82%D0%B8%D0%BA%D1%83%D0%BC_%D0%94%D0%9F%D0%9823_1_%D0%9C%D0%BE%D1%81%D0%BA%D0%B2%D0%B8%D1%87%D0%B5%D0%B2%D0%B0%D0%9E%D0%92.ipynb\" target=\"_parent\"><img src=\"https://colab.research.google.com/assets/colab-badge.svg\" alt=\"Open In Colab\"/></a>"
      ]
    },
    {
      "cell_type": "markdown",
      "source": [
        "Задание 14\n",
        "Открыто с: Пятница, 23 Февраль 2024, 00:00\n",
        "\n",
        "Создайте собственное исключение, которое будет вызываться в случае, если в функцию check_name() передано имя длиннее четырёх символов."
      ],
      "metadata": {
        "id": "uPIuDidIjmct"
      }
    },
    {
      "cell_type": "code",
      "source": [
        "#Решение \"Создание исключения\"\n",
        "\n",
        "def check_name():\n",
        "    name = input('введите символы \"name\":')\n",
        "    if len(name) > 4:\n",
        "        print('Ошибка ввода: длина более 4 символов')\n",
        "    else:\n",
        "      return name"
      ],
      "metadata": {
        "id": "ElqmnOXtEUNU"
      },
      "execution_count": 56,
      "outputs": []
    },
    {
      "cell_type": "code",
      "source": [
        "# Тест 1\n",
        "print(check_name())"
      ],
      "metadata": {
        "colab": {
          "base_uri": "https://localhost:8080/"
        },
        "id": "JOPe-UHVSAfA",
        "outputId": "bf724685-d127-40c1-a414-676f155acd84"
      },
      "execution_count": 57,
      "outputs": [
        {
          "output_type": "stream",
          "name": "stdout",
          "text": [
            "введите символы \"name\":abc1\n",
            "abc1\n"
          ]
        }
      ]
    },
    {
      "cell_type": "code",
      "source": [
        "# Тест 2\n",
        "print(check_name())"
      ],
      "metadata": {
        "colab": {
          "base_uri": "https://localhost:8080/"
        },
        "id": "ZlI89CRqSifo",
        "outputId": "a6159a3a-8127-4199-bdd0-ee40fa0baed4"
      },
      "execution_count": 58,
      "outputs": [
        {
          "output_type": "stream",
          "name": "stdout",
          "text": [
            "введите символы \"name\":qwerty\n",
            "Ошибка ввода: длина более 4 символов\n",
            "None\n"
          ]
        }
      ]
    }
  ]
}