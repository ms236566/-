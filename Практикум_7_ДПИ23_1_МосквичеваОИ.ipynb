{
  "nbformat": 4,
  "nbformat_minor": 0,
  "metadata": {
    "colab": {
      "provenance": [],
      "authorship_tag": "ABX9TyMGoD1P++uFS6ZbOlKvhK/5",
      "include_colab_link": true
    },
    "kernelspec": {
      "name": "python3",
      "display_name": "Python 3"
    },
    "language_info": {
      "name": "python"
    }
  },
  "cells": [
    {
      "cell_type": "markdown",
      "metadata": {
        "id": "view-in-github",
        "colab_type": "text"
      },
      "source": [
        "<a href=\"https://colab.research.google.com/github/ms236566/-/blob/main/%D0%9F%D1%80%D0%B0%D0%BA%D1%82%D0%B8%D0%BA%D1%83%D0%BC_7_%D0%94%D0%9F%D0%9823_1_%D0%9C%D0%BE%D1%81%D0%BA%D0%B2%D0%B8%D1%87%D0%B5%D0%B2%D0%B0%D0%9E%D0%98.ipynb\" target=\"_parent\"><img src=\"https://colab.research.google.com/assets/colab-badge.svg\" alt=\"Open In Colab\"/></a>"
      ]
    },
    {
      "cell_type": "markdown",
      "source": [
        "ЗАДАНИЕ 7\n",
        "\n",
        "---\n",
        "\n"
      ],
      "metadata": {
        "id": "wtEQ-44w2ilA"
      }
    },
    {
      "cell_type": "code",
      "execution_count": null,
      "metadata": {
        "id": "7yflfnHI2eq4"
      },
      "outputs": [],
      "source": [
        "Создайте класс Point (точка), у которого имеются 2 атрибута x и y (координаты) и методы __init__() и __str__(), и класс Rect (прямоугольник) у которого есть:\n",
        "\n",
        "    два атрибута (верхний левый угол и правый нижний угол прямоугольника), значениями которых являются объекты класса Point;\n",
        "    методы __init__() и __str__();\n",
        "    метод sides(), возвращающий длины сторон прямоугольника;\n",
        "    метод perim(), вычисляющий периметр прямоугольника\n",
        "\n",
        "Продемонстрируйте работу с классами, создав необходимые объекты и вызвав их методы.\n"
      ]
    },
    {
      "cell_type": "code",
      "source": [
        "'''class Point(object):\n",
        "    def __init__(self, x, y):\n",
        "        self.x = x\n",
        "        self.y = y\n",
        "\n",
        "    def dist(self, point):\n",
        "        distance = ((self.x - point.x)**2 + (self.y - point.y)**2)**0.5\n",
        "        return distance'''"
      ],
      "metadata": {
        "id": "7usq-Rpi2pTZ"
      },
      "execution_count": null,
      "outputs": []
    },
    {
      "cell_type": "code",
      "source": [
        "class Point(object):\n",
        "    def __init__(self, x, y):\n",
        "        self.x = x\n",
        "        self.y = y\n",
        "\n",
        "    def dist(self, other):\n",
        "        return ((self.x - other.x) ** 2 + (self.y - other.y) ** 2) ** 0.5\n",
        "\n",
        "\n",
        "p1_x = int(input(\"p1.x: \"))\n",
        "p1_y = int(input(\"p1.y: \"))\n",
        "\n",
        "p2_x = int(input(\"p2.x: \"))\n",
        "p2_y = int(input(\"p2.y: \"))\n",
        "\n",
        "p1 = Point(p1_x, p1_y)\n",
        "p2 = Point(p2_x, p2_y)\n",
        "\n",
        "print(p1.dist(p2))"
      ],
      "metadata": {
        "colab": {
          "base_uri": "https://localhost:8080/"
        },
        "id": "fcQG7KSh5esX",
        "outputId": "069722f5-06f1-4081-fa7d-b319734b4a5b"
      },
      "execution_count": null,
      "outputs": [
        {
          "output_type": "stream",
          "name": "stdout",
          "text": [
            "p1.x: 2\n",
            "p1.y: 3\n",
            "p2.x: 1\n",
            "p2.y: 2\n",
            "1.4142135623730951\n"
          ]
        }
      ]
    }
  ]
}