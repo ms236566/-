{
  "nbformat": 4,
  "nbformat_minor": 0,
  "metadata": {
    "colab": {
      "provenance": [],
      "authorship_tag": "ABX9TyPas1H4tOWOKpWM86HWP33A",
      "include_colab_link": true
    },
    "kernelspec": {
      "name": "python3",
      "display_name": "Python 3"
    },
    "language_info": {
      "name": "python"
    }
  },
  "cells": [
    {
      "cell_type": "markdown",
      "metadata": {
        "id": "view-in-github",
        "colab_type": "text"
      },
      "source": [
        "<a href=\"https://colab.research.google.com/github/ms236566/-/blob/main/%D0%9F%D1%80%D0%B0%D0%BA%D1%82%D0%B8%D0%BA%D1%83%D0%BC_12_%D1%81%D0%BE%D1%80%D1%82_%D0%B2%D1%8B%D0%B1%D0%BE%D1%80_%D0%94%D0%9F%D0%9823_1_%D0%9C%D0%BE%D1%81%D0%BA%D0%B2%D0%B8%D1%87%D0%B5%D0%B2%D0%B0%D0%9E%D0%92.ipynb\" target=\"_parent\"><img src=\"https://colab.research.google.com/assets/colab-badge.svg\" alt=\"Open In Colab\"/></a>"
      ]
    },
    {
      "cell_type": "markdown",
      "source": [
        "Задание 12\n",
        "\n",
        "---\n",
        "\n",
        "\n",
        "Сортировка вставкой\n",
        "\n",
        "Дан список целых чисел. Отсортируйте его в порядке неубывания значений. Выведите полученный список на экран.\n",
        "\n",
        "Решите эту задачу при помощи алгоритма сортировки вставкой.Решение оформите в виде функции InsertionSort(A).\n",
        "\n",
        "В этой задаче нельзя пользоваться дополнительным списком операциями удаления и вставки элементов.\n",
        "\n",
        "В алгоритме сортировки вставкой в каждый произвольный момент начальная часть массива уже отсортирована. В решении имеется цикл for i in range(1, len(A)), внутри которого предположении, что элементы списка A[0],A[1], ..., A[i-1]уже отсортированы, элемент A[i]добавляется в отсортированную часть списка.Для этого находится позиция, в которую необходимо вставить элемент A[i], затем осуществляется циклический сдвиг фрагмента уже отсортированной части.\n",
        "\n"
      ],
      "metadata": {
        "id": "ZhsgeWXFWwUI"
      }
    },
    {
      "cell_type": "code",
      "source": [
        "# Решение\n",
        "\n",
        "from random import randint\n",
        "a_list = [randint(-10, 100) for i in range(10)]\n",
        "print(a_list) # список исходный\n",
        "\n",
        "def insertion_sort(a_list):\n",
        "  for ind in range(0, len(a_list)):\n",
        "    current_value = a_list[ind]\n",
        "    position = ind\n",
        "    while position > 0 and a_list[position - 1] > current_value:\n",
        "      a_list[position] = a_list[position - 1]\n",
        "      position -= 1\n",
        "      a_list[position] = current_value\n",
        "  return a_list\n",
        "\n",
        "insertion_sort(list(a_list)) # результат сортировки\n"
      ],
      "metadata": {
        "colab": {
          "base_uri": "https://localhost:8080/"
        },
        "id": "VVcribAHx5AE",
        "outputId": "5c67aff3-6c26-4ac6-80e4-ab86aa79286a"
      },
      "execution_count": null,
      "outputs": [
        {
          "output_type": "stream",
          "name": "stdout",
          "text": [
            "[89, 70, 86, 98, 63, 83, 45, 66, 91, 6]\n"
          ]
        },
        {
          "output_type": "execute_result",
          "data": {
            "text/plain": [
              "[6, 45, 63, 66, 70, 83, 86, 89, 91, 98]"
            ]
          },
          "metadata": {},
          "execution_count": 43
        }
      ]
    }
  ]
}