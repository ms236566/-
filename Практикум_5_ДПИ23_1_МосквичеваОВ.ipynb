{
  "nbformat": 4,
  "nbformat_minor": 0,
  "metadata": {
    "colab": {
      "provenance": [],
      "authorship_tag": "ABX9TyOKeNTd8aOl90cLcRog44ip",
      "include_colab_link": true
    },
    "kernelspec": {
      "name": "python3",
      "display_name": "Python 3"
    },
    "language_info": {
      "name": "python"
    }
  },
  "cells": [
    {
      "cell_type": "markdown",
      "metadata": {
        "id": "view-in-github",
        "colab_type": "text"
      },
      "source": [
        "<a href=\"https://colab.research.google.com/github/ms236566/-/blob/main/%D0%9F%D1%80%D0%B0%D0%BA%D1%82%D0%B8%D0%BA%D1%83%D0%BC_5_%D0%94%D0%9F%D0%9823_1_%D0%9C%D0%BE%D1%81%D0%BA%D0%B2%D0%B8%D1%87%D0%B5%D0%B2%D0%B0%D0%9E%D0%92.ipynb\" target=\"_parent\"><img src=\"https://colab.research.google.com/assets/colab-badge.svg\" alt=\"Open In Colab\"/></a>"
      ]
    },
    {
      "cell_type": "markdown",
      "source": [
        "Задание 5\\\n",
        "\n",
        "---\n",
        "\n",
        "\n",
        "При помощи функций map(), filter(), reduce() превратить список целых чисел в строку, содержащую строковое представление этих чисел, разделенных пробелами.\\\n",
        "\n",
        "Пример:\n",
        "\n",
        "1 15 246 156930\n",
        "\n",
        "<< один пятнадцать двести сорок шесть сто пятьдесят шесть тысяч девятьсот тридцать\\"
      ],
      "metadata": {
        "id": "I79B4hkekixh"
      }
    },
    {
      "cell_type": "code",
      "source": [
        "# Решение\n",
        "\n",
        "s_list = input(\"Введите в список 5 чисел через пробел: \").split()\n",
        "spisok_list = list(map(int, s_list))\n",
        "print(\"Список чисел: \", spisok_list)"
      ],
      "metadata": {
        "colab": {
          "base_uri": "https://localhost:8080/"
        },
        "id": "wvUyIGAG2PS8",
        "outputId": "2853dbb6-d997-4ac6-99d9-f81b947f12e7"
      },
      "execution_count": 276,
      "outputs": [
        {
          "output_type": "stream",
          "name": "stdout",
          "text": [
            "Введите в список 5 чисел через пробел: 12 241 5010 973 1000000\n",
            "Список чисел:  [12, 241, 5010, 973, 1000000]\n"
          ]
        }
      ]
    },
    {
      "cell_type": "code",
      "source": [
        "s1_list = \" \".join(map(str, s_list))\n",
        "\" \".join(map(str, s_list))"
      ],
      "metadata": {
        "colab": {
          "base_uri": "https://localhost:8080/",
          "height": 36
        },
        "id": "A8VEqNi-wb58",
        "outputId": "f07b0aa6-0733-4332-ecb0-030b0d9c10b1"
      },
      "execution_count": 277,
      "outputs": [
        {
          "output_type": "execute_result",
          "data": {
            "text/plain": [
              "'12 241 5010 973 1000000'"
            ],
            "application/vnd.google.colaboratory.intrinsic+json": {
              "type": "string"
            }
          },
          "metadata": {},
          "execution_count": 277
        }
      ]
    },
    {
      "cell_type": "code",
      "source": [
        "s2_list = s1_list.split()\n",
        "print(s2_list)"
      ],
      "metadata": {
        "colab": {
          "base_uri": "https://localhost:8080/"
        },
        "id": "18ugipejFIiA",
        "outputId": "2443d29f-3186-4065-dfbf-7202b453c814"
      },
      "execution_count": 278,
      "outputs": [
        {
          "output_type": "stream",
          "name": "stdout",
          "text": [
            "['12', '241', '5010', '973', '1000000']\n"
          ]
        }
      ]
    },
    {
      "cell_type": "code",
      "source": [
        "#pip install num2words\n",
        "print(num2words((s2_list[0]), lang='ru')) # выводит один элемент списка\n",
        "print(num2words((s2_list[1]), lang='ru')) # выводит один элемент списка\n",
        "print(num2words((s2_list[2]), lang='ru')) # выводит один элемент списка\n",
        "print(num2words((s2_list[3]), lang='ru')) # выводит один элемент списка\n",
        "print(num2words((s2_list[-1]), lang='ru')) # выводит один элемент списка"
      ],
      "metadata": {
        "colab": {
          "base_uri": "https://localhost:8080/"
        },
        "id": "mko-rRCShTRm",
        "outputId": "83cbe328-914a-4887-d8d8-99b6fcc79bd8"
      },
      "execution_count": 279,
      "outputs": [
        {
          "output_type": "stream",
          "name": "stdout",
          "text": [
            "двенадцать\n",
            "двести сорок один\n",
            "пять тысяч десять\n",
            "девятьсот семьдесят три\n",
            "один миллион\n"
          ]
        }
      ]
    },
    {
      "cell_type": "code",
      "source": [
        "# не рациональное решение, но имеет право на жизнь\n",
        "a = num2words((s2_list[0]), lang='ru')\n",
        "a1 = (num2words((s2_list[1]), lang='ru'))\n",
        "a2 = (num2words((s2_list[2]), lang='ru'))\n",
        "a3 = (num2words((s2_list[3]), lang='ru'))\n",
        "a4 = (num2words((s2_list[-1]), lang='ru'))\n",
        "print(a,a1,a2,a3,a4)"
      ],
      "metadata": {
        "colab": {
          "base_uri": "https://localhost:8080/"
        },
        "id": "S3WUZNY_tqET",
        "outputId": "592ee7da-5faf-4c00-c84b-6ac7426ad2ae"
      },
      "execution_count": 280,
      "outputs": [
        {
          "output_type": "stream",
          "name": "stdout",
          "text": [
            "двенадцать двести сорок один пять тысяч десять девятьсот семьдесят три один миллион\n"
          ]
        }
      ]
    }
  ]
}