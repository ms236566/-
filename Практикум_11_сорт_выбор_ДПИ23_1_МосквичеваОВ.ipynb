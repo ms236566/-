{
  "nbformat": 4,
  "nbformat_minor": 0,
  "metadata": {
    "colab": {
      "provenance": [],
      "authorship_tag": "ABX9TyPDd5U5M4nhb/+e+wBFDbku",
      "include_colab_link": true
    },
    "kernelspec": {
      "name": "python3",
      "display_name": "Python 3"
    },
    "language_info": {
      "name": "python"
    }
  },
  "cells": [
    {
      "cell_type": "markdown",
      "metadata": {
        "id": "view-in-github",
        "colab_type": "text"
      },
      "source": [
        "<a href=\"https://colab.research.google.com/github/ms236566/-/blob/main/%D0%9F%D1%80%D0%B0%D0%BA%D1%82%D0%B8%D0%BA%D1%83%D0%BC_11_%D1%81%D0%BE%D1%80%D1%82_%D0%B2%D1%8B%D0%B1%D0%BE%D1%80_%D0%94%D0%9F%D0%9823_1_%D0%9C%D0%BE%D1%81%D0%BA%D0%B2%D0%B8%D1%87%D0%B5%D0%B2%D0%B0%D0%9E%D0%92.ipynb\" target=\"_parent\"><img src=\"https://colab.research.google.com/assets/colab-badge.svg\" alt=\"Open In Colab\"/></a>"
      ]
    },
    {
      "cell_type": "markdown",
      "source": [
        "Задание 11\n",
        "Открыто с: Пятница, 23 Февраль 2024, 00:00\n",
        "\n",
        "Сортировка выбором\n",
        "\n",
        "Дан список целых чисел.Выведите все элементы этого списка в порядке невозрастания значений.Выведите новый список на экран.\n",
        "\n",
        "Решите эту задачу при помощи алгоритма сортировки выбором.Решение оформите в виде функции SelectionSort(A).\n",
        "\n",
        "В алгоритме сортировки выбором мы находим наибольший элемент в списке и ставим его на первое место, затем находим наибольший элемент из оставшихся и ставим его на второе место и т.д.\n"
      ],
      "metadata": {
        "id": "ZhsgeWXFWwUI"
      }
    },
    {
      "cell_type": "code",
      "source": [
        "from random import randint\n",
        "lst = [randint(-10, 100) for i in range(10)]\n",
        "print(lst) # список исходный\n",
        "lst.sort()\n",
        "print(lst) # список по условию (в порядке невозрастания)\n",
        "\n",
        "# ввод функции\n",
        "def selectionSort(A, size):\n",
        "\n",
        "    for ind in range(size):\n",
        "        max_index = ind\n",
        "        for j in range(ind + 1, size):\n",
        "            if A[j] > A[max_index]:\n",
        "                max_index = j\n",
        "        (A[ind], A[max_index]) = (A[max_index], A[ind]) # замена\n",
        "\n",
        "size = len(lst)\n",
        "selectionSort(lst, size)\n",
        "print(lst) # результат отсорированный\n"
      ],
      "metadata": {
        "colab": {
          "base_uri": "https://localhost:8080/"
        },
        "id": "P3pJh35nXelY",
        "outputId": "f012a5f5-ef66-4768-ba4f-cdd8937ea87b"
      },
      "execution_count": 92,
      "outputs": [
        {
          "output_type": "stream",
          "name": "stdout",
          "text": [
            "[88, 34, 12, 0, -7, 40, 36, 3, 67, 58]\n",
            "[-7, 0, 3, 12, 34, 36, 40, 58, 67, 88]\n",
            "[88, 67, 58, 40, 36, 34, 12, 3, 0, -7]\n"
          ]
        }
      ]
    }
  ]
}