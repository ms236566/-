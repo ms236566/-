{
  "cells": [
    {
      "cell_type": "markdown",
      "metadata": {
        "id": "view-in-github",
        "colab_type": "text"
      },
      "source": [
        "<a href=\"https://colab.research.google.com/github/ms236566/-/blob/main/%D0%9B%D0%B0%D0%B1_%D1%80%D0%B0%D0%B1_3_data_files_%D0%94%D0%9F%D0%9823_1_%D0%9C%D0%BE%D1%81%D0%BA%D0%B2%D0%B8%D1%87%D0%B5%D0%B2%D0%B0%D0%9E%D0%92.ipynb\" target=\"_parent\"><img src=\"https://colab.research.google.com/assets/colab-badge.svg\" alt=\"Open In Colab\"/></a>"
      ]
    },
    {
      "cell_type": "markdown",
      "metadata": {
        "id": "8Uh40B-o7Ccq"
      },
      "source": [
        "# Форматы данных (1)"
      ]
    },
    {
      "cell_type": "markdown",
      "metadata": {
        "id": "Jd3BFrxi7Cct"
      },
      "source": [
        "Материалы:\n",
        "* Макрушин С.В. \"Лекция 4: Форматы данных\"\n",
        "* https://docs.python.org/3/library/json.html\n",
        "* https://docs.python.org/3/library/pickle.html\n",
        "* https://www.crummy.com/software/BeautifulSoup/bs4/doc.ru/bs4ru.html\n",
        "* Уэс Маккини. Python и анализ данных"
      ]
    },
    {
      "cell_type": "code",
      "execution_count": null,
      "metadata": {
        "id": "e4G5R_ws7mNE"
      },
      "outputs": [],
      "source": [
        "from google.colab import drive\n",
        "drive.mount('/content/drive/')"
      ]
    },
    {
      "cell_type": "code",
      "execution_count": null,
      "metadata": {
        "id": "HyzYarkt7wTW"
      },
      "outputs": [],
      "source": [
        "import json"
      ]
    },
    {
      "cell_type": "markdown",
      "metadata": {
        "id": "uRu7h94f7Ccu"
      },
      "source": [
        "## Задачи для совместного разбора"
      ]
    },
    {
      "cell_type": "markdown",
      "metadata": {
        "id": "eq_KK2hl7Ccu"
      },
      "source": [
        "1. Вывести все адреса электронной почты, содержащиеся в адресной книге `addres-book.json`"
      ]
    },
    {
      "cell_type": "code",
      "execution_count": null,
      "metadata": {
        "id": "3menF9U98tCZ"
      },
      "outputs": [],
      "source": [
        "with open('/content/drive/MyDrive/L3/data/addres-book.json', 'r', encoding='utf-8') as f:\n",
        "  arr= json.load(f)\n",
        "for row in arr:\n",
        "  print(row['email'])"
      ]
    },
    {
      "cell_type": "markdown",
      "metadata": {
        "id": "7esKLgkC7Ccu"
      },
      "source": [
        "2. Вывести телефоны, содержащиеся в адресной книге `addres-book.json`"
      ]
    },
    {
      "cell_type": "code",
      "execution_count": null,
      "metadata": {
        "id": "xuLuvQgJBIUx"
      },
      "outputs": [],
      "source": [
        "for row in arr:\n",
        "  for phone in row['phones']:\n",
        "    print(phone['phone'])"
      ]
    },
    {
      "cell_type": "markdown",
      "metadata": {
        "id": "fqNRaStq7Ccv"
      },
      "source": [
        "3. По данным из файла `addres-book-q.xml` сформировать список словарей с телефонами каждого из людей."
      ]
    },
    {
      "cell_type": "code",
      "execution_count": null,
      "metadata": {
        "id": "aJ02uouJC-Z3"
      },
      "outputs": [],
      "source": [
        "from bs4 import BeautifulSoup"
      ]
    },
    {
      "cell_type": "code",
      "execution_count": null,
      "metadata": {
        "id": "MHqERqCzENJa"
      },
      "outputs": [],
      "source": [
        "xml_f = open('/content/drive/MyDrive/L3/data/addres-book-q.xml')\n",
        "xml_ab = BeautifulSoup(xml_f, 'xml')\n",
        "phones = []"
      ]
    },
    {
      "cell_type": "code",
      "execution_count": null,
      "metadata": {
        "id": "qr1GfCvnGQm0"
      },
      "outputs": [],
      "source": [
        "for person in xml_ab.address_book.find_all(\"address\"):\n",
        "  pn = [phones.next for phones in person.phones.find_all(\"phone\")]\n",
        "  phones.append({person.find(\"name\").next: pn})\n",
        "\n",
        "phones"
      ]
    },
    {
      "cell_type": "markdown",
      "metadata": {
        "id": "H6VqSZ_e7Ccv"
      },
      "source": [
        "## Лабораторная работа №4"
      ]
    },
    {
      "cell_type": "markdown",
      "metadata": {
        "id": "E4MfdfGr7Ccv"
      },
      "source": [
        "### JSON"
      ]
    },
    {
      "cell_type": "markdown",
      "metadata": {
        "id": "LEuBl1x07Ccv"
      },
      "source": [
        "1.1 Считайте файл `contributors_sample.json`. Воспользовавшись модулем `json`, преобразуйте содержимое файла в соответствующие объекты python. Выведите на экран информацию о первых 3 пользователях."
      ]
    },
    {
      "cell_type": "code",
      "execution_count": null,
      "metadata": {
        "id": "dt7uIkGdNAhd"
      },
      "outputs": [],
      "source": [
        "with open('/content/drive/MyDrive/L3/data/contributors_sample.json', 'r', encoding='utf-8') as f:\n",
        "  contributors_sample = json.load(f)\n",
        "contributors_sample[:3]"
      ]
    },
    {
      "cell_type": "markdown",
      "metadata": {
        "id": "Gq8zopHm7Ccw"
      },
      "source": [
        "1.2 Выведите уникальные почтовые домены, содержащиеся в почтовых адресах людей"
      ]
    },
    {
      "cell_type": "code",
      "execution_count": null,
      "metadata": {
        "id": "3VjxbPr8Pr39"
      },
      "outputs": [],
      "source": [
        "unique_domains = set()\n",
        "for row in contributors_sample:\n",
        "  unique_domains.add(row['mail'].split('@')[1])\n",
        "unique_domains"
      ]
    },
    {
      "cell_type": "markdown",
      "metadata": {
        "id": "DYwl4B6I7Ccw"
      },
      "source": [
        "1.3 Напишите функцию, которая по `username` ищет человека и выводит информацию о нем. Если пользователь с заданным `username` отсутствует, возбудите исключение `ValueError`"
      ]
    },
    {
      "cell_type": "code",
      "execution_count": null,
      "metadata": {
        "id": "0kGr6qaGQgF6"
      },
      "outputs": [],
      "source": [
        "def find_user(username):\n",
        "  for user in contributors_sample:\n",
        "    if user['username'] == username:\n",
        "      return user\n",
        "      raise ValueError('No such user')\n",
        "\n",
        "print(find_user('uhebert'))\n",
        "find_user('tgr')"
      ]
    },
    {
      "cell_type": "markdown",
      "metadata": {
        "id": "0CwBh0Rp7Ccw"
      },
      "source": [
        "1.4 Посчитайте, сколько мужчин и женщин присутсвует в этом наборе данных."
      ]
    },
    {
      "cell_type": "code",
      "execution_count": null,
      "metadata": {
        "id": "6WwhM2m7kFMA"
      },
      "outputs": [],
      "source": [
        "mens = 0\n",
        "for i in contributors_sample:\n",
        "  item_dict = contributors_sample\n",
        "  all_i = len(item_dict)\n",
        "  count = 0\n",
        "  for men in contributors_sample:\n",
        "    if men['sex'] == 'M':\n",
        "      count += 1\n",
        "  if count > mens:\n",
        "        mens = count\n",
        "\n",
        "feminine = ((all_i)-(mens))\n",
        "\n",
        "print(\"Мужчин:\", mens, ',', \"Женщин:\", feminine)"
      ]
    },
    {
      "cell_type": "markdown",
      "metadata": {
        "id": "spWPwTpB7Ccw"
      },
      "source": [
        "1.5 Создайте `pd.DataFrame` `contributors`, имеющий столбцы `id`, `username` и `sex`."
      ]
    },
    {
      "cell_type": "code",
      "execution_count": null,
      "metadata": {
        "id": "DpDr_qysN6vA"
      },
      "outputs": [],
      "source": [
        "import numpy as np\n",
        "import pandas as pd\n",
        "import json\n",
        "import requests\n",
        "\n",
        "data = contributors_sample\n",
        "df = pd.DataFrame.from_records(data)\n",
        "df.drop(columns= ['name', 'address', 'mail', 'jobs'], axis = 1)\n"
      ]
    },
    {
      "cell_type": "markdown",
      "metadata": {
        "id": "J8Ev1lub7Ccw"
      },
      "source": [
        "1.6 Загрузите данные из файла `recipes_sample.csv` (__ЛР2__) в таблицу `recipes`. Объедините `recipes` с таблицей `contributors` с сохранением строк в том случае, если информация о человеке отсутствует в JSON-файле. Для скольких человек информация отсутствует?"
      ]
    },
    {
      "cell_type": "code",
      "execution_count": 40,
      "metadata": {
        "colab": {
          "base_uri": "https://localhost:8080/",
          "height": 597
        },
        "id": "cARnVai2HVE_",
        "outputId": "a0c9d6a1-bc7d-4a36-fc51-1058aeffa012"
      },
      "outputs": [
        {
          "output_type": "execute_result",
          "data": {
            "text/plain": [
              "                                               name      id  minutes  \\\n",
              "0             george s at the cove  black bean soup   44123       90   \n",
              "1                healthy for them  yogurt popsicles   67664       10   \n",
              "2                      i can t believe it s spinach   38798       30   \n",
              "3                              italian  gut busters   35173       45   \n",
              "4          love is in the air  beef fondue   sauces   84797       25   \n",
              "...                                             ...     ...      ...   \n",
              "29995  zurie s holey rustic olive and cheddar bread  267661       80   \n",
              "29996          zwetschgenkuchen  bavarian plum cake  386977      240   \n",
              "29997   zwiebelkuchen   southwest german onion cake  103312       75   \n",
              "29998                                   zydeco soup  486161       60   \n",
              "29999        cookies by design   cookies on a stick  298512       29   \n",
              "\n",
              "       contributor_id   submitted  n_steps  \\\n",
              "0               35193  2002-10-25      NaN   \n",
              "1               91970  2003-07-26      NaN   \n",
              "2                1533  2002-08-29      NaN   \n",
              "3               22724  2002-07-27      NaN   \n",
              "4                4470  2004-02-23      4.0   \n",
              "...               ...         ...      ...   \n",
              "29995          200862  2007-11-25     16.0   \n",
              "29996          177443  2009-08-24      NaN   \n",
              "29997          161745  2004-11-03      NaN   \n",
              "29998          227978  2012-08-29      NaN   \n",
              "29999          506822  2008-04-15      9.0   \n",
              "\n",
              "                                             description  n_ingredients  \n",
              "0      an original recipe created by chef scott meska...           18.0  \n",
              "1      my children and their friends ask for my homem...            NaN  \n",
              "2                these were so go, it surprised even me.            8.0  \n",
              "3      my sister-in-law made these for us at a family...            NaN  \n",
              "4      i think a fondue is a very romantic casual din...            NaN  \n",
              "...                                                  ...            ...  \n",
              "29995  this is based on a french recipe but i changed...           10.0  \n",
              "29996  this is a traditional fresh plum cake, thought...           11.0  \n",
              "29997  this is a traditional late summer early fall s...            NaN  \n",
              "29998  this is a delicious soup that i originally fou...            NaN  \n",
              "29999  i've heard of the 'cookies by design' company,...           10.0  \n",
              "\n",
              "[30000 rows x 8 columns]"
            ],
            "text/html": [
              "\n",
              "  <div id=\"df-1a974a3b-1f48-4f48-a36f-145d4db4b273\" class=\"colab-df-container\">\n",
              "    <div>\n",
              "<style scoped>\n",
              "    .dataframe tbody tr th:only-of-type {\n",
              "        vertical-align: middle;\n",
              "    }\n",
              "\n",
              "    .dataframe tbody tr th {\n",
              "        vertical-align: top;\n",
              "    }\n",
              "\n",
              "    .dataframe thead th {\n",
              "        text-align: right;\n",
              "    }\n",
              "</style>\n",
              "<table border=\"1\" class=\"dataframe\">\n",
              "  <thead>\n",
              "    <tr style=\"text-align: right;\">\n",
              "      <th></th>\n",
              "      <th>name</th>\n",
              "      <th>id</th>\n",
              "      <th>minutes</th>\n",
              "      <th>contributor_id</th>\n",
              "      <th>submitted</th>\n",
              "      <th>n_steps</th>\n",
              "      <th>description</th>\n",
              "      <th>n_ingredients</th>\n",
              "    </tr>\n",
              "  </thead>\n",
              "  <tbody>\n",
              "    <tr>\n",
              "      <th>0</th>\n",
              "      <td>george s at the cove  black bean soup</td>\n",
              "      <td>44123</td>\n",
              "      <td>90</td>\n",
              "      <td>35193</td>\n",
              "      <td>2002-10-25</td>\n",
              "      <td>NaN</td>\n",
              "      <td>an original recipe created by chef scott meska...</td>\n",
              "      <td>18.0</td>\n",
              "    </tr>\n",
              "    <tr>\n",
              "      <th>1</th>\n",
              "      <td>healthy for them  yogurt popsicles</td>\n",
              "      <td>67664</td>\n",
              "      <td>10</td>\n",
              "      <td>91970</td>\n",
              "      <td>2003-07-26</td>\n",
              "      <td>NaN</td>\n",
              "      <td>my children and their friends ask for my homem...</td>\n",
              "      <td>NaN</td>\n",
              "    </tr>\n",
              "    <tr>\n",
              "      <th>2</th>\n",
              "      <td>i can t believe it s spinach</td>\n",
              "      <td>38798</td>\n",
              "      <td>30</td>\n",
              "      <td>1533</td>\n",
              "      <td>2002-08-29</td>\n",
              "      <td>NaN</td>\n",
              "      <td>these were so go, it surprised even me.</td>\n",
              "      <td>8.0</td>\n",
              "    </tr>\n",
              "    <tr>\n",
              "      <th>3</th>\n",
              "      <td>italian  gut busters</td>\n",
              "      <td>35173</td>\n",
              "      <td>45</td>\n",
              "      <td>22724</td>\n",
              "      <td>2002-07-27</td>\n",
              "      <td>NaN</td>\n",
              "      <td>my sister-in-law made these for us at a family...</td>\n",
              "      <td>NaN</td>\n",
              "    </tr>\n",
              "    <tr>\n",
              "      <th>4</th>\n",
              "      <td>love is in the air  beef fondue   sauces</td>\n",
              "      <td>84797</td>\n",
              "      <td>25</td>\n",
              "      <td>4470</td>\n",
              "      <td>2004-02-23</td>\n",
              "      <td>4.0</td>\n",
              "      <td>i think a fondue is a very romantic casual din...</td>\n",
              "      <td>NaN</td>\n",
              "    </tr>\n",
              "    <tr>\n",
              "      <th>...</th>\n",
              "      <td>...</td>\n",
              "      <td>...</td>\n",
              "      <td>...</td>\n",
              "      <td>...</td>\n",
              "      <td>...</td>\n",
              "      <td>...</td>\n",
              "      <td>...</td>\n",
              "      <td>...</td>\n",
              "    </tr>\n",
              "    <tr>\n",
              "      <th>29995</th>\n",
              "      <td>zurie s holey rustic olive and cheddar bread</td>\n",
              "      <td>267661</td>\n",
              "      <td>80</td>\n",
              "      <td>200862</td>\n",
              "      <td>2007-11-25</td>\n",
              "      <td>16.0</td>\n",
              "      <td>this is based on a french recipe but i changed...</td>\n",
              "      <td>10.0</td>\n",
              "    </tr>\n",
              "    <tr>\n",
              "      <th>29996</th>\n",
              "      <td>zwetschgenkuchen  bavarian plum cake</td>\n",
              "      <td>386977</td>\n",
              "      <td>240</td>\n",
              "      <td>177443</td>\n",
              "      <td>2009-08-24</td>\n",
              "      <td>NaN</td>\n",
              "      <td>this is a traditional fresh plum cake, thought...</td>\n",
              "      <td>11.0</td>\n",
              "    </tr>\n",
              "    <tr>\n",
              "      <th>29997</th>\n",
              "      <td>zwiebelkuchen   southwest german onion cake</td>\n",
              "      <td>103312</td>\n",
              "      <td>75</td>\n",
              "      <td>161745</td>\n",
              "      <td>2004-11-03</td>\n",
              "      <td>NaN</td>\n",
              "      <td>this is a traditional late summer early fall s...</td>\n",
              "      <td>NaN</td>\n",
              "    </tr>\n",
              "    <tr>\n",
              "      <th>29998</th>\n",
              "      <td>zydeco soup</td>\n",
              "      <td>486161</td>\n",
              "      <td>60</td>\n",
              "      <td>227978</td>\n",
              "      <td>2012-08-29</td>\n",
              "      <td>NaN</td>\n",
              "      <td>this is a delicious soup that i originally fou...</td>\n",
              "      <td>NaN</td>\n",
              "    </tr>\n",
              "    <tr>\n",
              "      <th>29999</th>\n",
              "      <td>cookies by design   cookies on a stick</td>\n",
              "      <td>298512</td>\n",
              "      <td>29</td>\n",
              "      <td>506822</td>\n",
              "      <td>2008-04-15</td>\n",
              "      <td>9.0</td>\n",
              "      <td>i've heard of the 'cookies by design' company,...</td>\n",
              "      <td>10.0</td>\n",
              "    </tr>\n",
              "  </tbody>\n",
              "</table>\n",
              "<p>30000 rows × 8 columns</p>\n",
              "</div>\n",
              "    <div class=\"colab-df-buttons\">\n",
              "\n",
              "  <div class=\"colab-df-container\">\n",
              "    <button class=\"colab-df-convert\" onclick=\"convertToInteractive('df-1a974a3b-1f48-4f48-a36f-145d4db4b273')\"\n",
              "            title=\"Convert this dataframe to an interactive table.\"\n",
              "            style=\"display:none;\">\n",
              "\n",
              "  <svg xmlns=\"http://www.w3.org/2000/svg\" height=\"24px\" viewBox=\"0 -960 960 960\">\n",
              "    <path d=\"M120-120v-720h720v720H120Zm60-500h600v-160H180v160Zm220 220h160v-160H400v160Zm0 220h160v-160H400v160ZM180-400h160v-160H180v160Zm440 0h160v-160H620v160ZM180-180h160v-160H180v160Zm440 0h160v-160H620v160Z\"/>\n",
              "  </svg>\n",
              "    </button>\n",
              "\n",
              "  <style>\n",
              "    .colab-df-container {\n",
              "      display:flex;\n",
              "      gap: 12px;\n",
              "    }\n",
              "\n",
              "    .colab-df-convert {\n",
              "      background-color: #E8F0FE;\n",
              "      border: none;\n",
              "      border-radius: 50%;\n",
              "      cursor: pointer;\n",
              "      display: none;\n",
              "      fill: #1967D2;\n",
              "      height: 32px;\n",
              "      padding: 0 0 0 0;\n",
              "      width: 32px;\n",
              "    }\n",
              "\n",
              "    .colab-df-convert:hover {\n",
              "      background-color: #E2EBFA;\n",
              "      box-shadow: 0px 1px 2px rgba(60, 64, 67, 0.3), 0px 1px 3px 1px rgba(60, 64, 67, 0.15);\n",
              "      fill: #174EA6;\n",
              "    }\n",
              "\n",
              "    .colab-df-buttons div {\n",
              "      margin-bottom: 4px;\n",
              "    }\n",
              "\n",
              "    [theme=dark] .colab-df-convert {\n",
              "      background-color: #3B4455;\n",
              "      fill: #D2E3FC;\n",
              "    }\n",
              "\n",
              "    [theme=dark] .colab-df-convert:hover {\n",
              "      background-color: #434B5C;\n",
              "      box-shadow: 0px 1px 3px 1px rgba(0, 0, 0, 0.15);\n",
              "      filter: drop-shadow(0px 1px 2px rgba(0, 0, 0, 0.3));\n",
              "      fill: #FFFFFF;\n",
              "    }\n",
              "  </style>\n",
              "\n",
              "    <script>\n",
              "      const buttonEl =\n",
              "        document.querySelector('#df-1a974a3b-1f48-4f48-a36f-145d4db4b273 button.colab-df-convert');\n",
              "      buttonEl.style.display =\n",
              "        google.colab.kernel.accessAllowed ? 'block' : 'none';\n",
              "\n",
              "      async function convertToInteractive(key) {\n",
              "        const element = document.querySelector('#df-1a974a3b-1f48-4f48-a36f-145d4db4b273');\n",
              "        const dataTable =\n",
              "          await google.colab.kernel.invokeFunction('convertToInteractive',\n",
              "                                                    [key], {});\n",
              "        if (!dataTable) return;\n",
              "\n",
              "        const docLinkHtml = 'Like what you see? Visit the ' +\n",
              "          '<a target=\"_blank\" href=https://colab.research.google.com/notebooks/data_table.ipynb>data table notebook</a>'\n",
              "          + ' to learn more about interactive tables.';\n",
              "        element.innerHTML = '';\n",
              "        dataTable['output_type'] = 'display_data';\n",
              "        await google.colab.output.renderOutput(dataTable, element);\n",
              "        const docLink = document.createElement('div');\n",
              "        docLink.innerHTML = docLinkHtml;\n",
              "        element.appendChild(docLink);\n",
              "      }\n",
              "    </script>\n",
              "  </div>\n",
              "\n",
              "\n",
              "<div id=\"df-979098c8-3ead-47d0-90db-7f8ee14be5d2\">\n",
              "  <button class=\"colab-df-quickchart\" onclick=\"quickchart('df-979098c8-3ead-47d0-90db-7f8ee14be5d2')\"\n",
              "            title=\"Suggest charts\"\n",
              "            style=\"display:none;\">\n",
              "\n",
              "<svg xmlns=\"http://www.w3.org/2000/svg\" height=\"24px\"viewBox=\"0 0 24 24\"\n",
              "     width=\"24px\">\n",
              "    <g>\n",
              "        <path d=\"M19 3H5c-1.1 0-2 .9-2 2v14c0 1.1.9 2 2 2h14c1.1 0 2-.9 2-2V5c0-1.1-.9-2-2-2zM9 17H7v-7h2v7zm4 0h-2V7h2v10zm4 0h-2v-4h2v4z\"/>\n",
              "    </g>\n",
              "</svg>\n",
              "  </button>\n",
              "\n",
              "<style>\n",
              "  .colab-df-quickchart {\n",
              "      --bg-color: #E8F0FE;\n",
              "      --fill-color: #1967D2;\n",
              "      --hover-bg-color: #E2EBFA;\n",
              "      --hover-fill-color: #174EA6;\n",
              "      --disabled-fill-color: #AAA;\n",
              "      --disabled-bg-color: #DDD;\n",
              "  }\n",
              "\n",
              "  [theme=dark] .colab-df-quickchart {\n",
              "      --bg-color: #3B4455;\n",
              "      --fill-color: #D2E3FC;\n",
              "      --hover-bg-color: #434B5C;\n",
              "      --hover-fill-color: #FFFFFF;\n",
              "      --disabled-bg-color: #3B4455;\n",
              "      --disabled-fill-color: #666;\n",
              "  }\n",
              "\n",
              "  .colab-df-quickchart {\n",
              "    background-color: var(--bg-color);\n",
              "    border: none;\n",
              "    border-radius: 50%;\n",
              "    cursor: pointer;\n",
              "    display: none;\n",
              "    fill: var(--fill-color);\n",
              "    height: 32px;\n",
              "    padding: 0;\n",
              "    width: 32px;\n",
              "  }\n",
              "\n",
              "  .colab-df-quickchart:hover {\n",
              "    background-color: var(--hover-bg-color);\n",
              "    box-shadow: 0 1px 2px rgba(60, 64, 67, 0.3), 0 1px 3px 1px rgba(60, 64, 67, 0.15);\n",
              "    fill: var(--button-hover-fill-color);\n",
              "  }\n",
              "\n",
              "  .colab-df-quickchart-complete:disabled,\n",
              "  .colab-df-quickchart-complete:disabled:hover {\n",
              "    background-color: var(--disabled-bg-color);\n",
              "    fill: var(--disabled-fill-color);\n",
              "    box-shadow: none;\n",
              "  }\n",
              "\n",
              "  .colab-df-spinner {\n",
              "    border: 2px solid var(--fill-color);\n",
              "    border-color: transparent;\n",
              "    border-bottom-color: var(--fill-color);\n",
              "    animation:\n",
              "      spin 1s steps(1) infinite;\n",
              "  }\n",
              "\n",
              "  @keyframes spin {\n",
              "    0% {\n",
              "      border-color: transparent;\n",
              "      border-bottom-color: var(--fill-color);\n",
              "      border-left-color: var(--fill-color);\n",
              "    }\n",
              "    20% {\n",
              "      border-color: transparent;\n",
              "      border-left-color: var(--fill-color);\n",
              "      border-top-color: var(--fill-color);\n",
              "    }\n",
              "    30% {\n",
              "      border-color: transparent;\n",
              "      border-left-color: var(--fill-color);\n",
              "      border-top-color: var(--fill-color);\n",
              "      border-right-color: var(--fill-color);\n",
              "    }\n",
              "    40% {\n",
              "      border-color: transparent;\n",
              "      border-right-color: var(--fill-color);\n",
              "      border-top-color: var(--fill-color);\n",
              "    }\n",
              "    60% {\n",
              "      border-color: transparent;\n",
              "      border-right-color: var(--fill-color);\n",
              "    }\n",
              "    80% {\n",
              "      border-color: transparent;\n",
              "      border-right-color: var(--fill-color);\n",
              "      border-bottom-color: var(--fill-color);\n",
              "    }\n",
              "    90% {\n",
              "      border-color: transparent;\n",
              "      border-bottom-color: var(--fill-color);\n",
              "    }\n",
              "  }\n",
              "</style>\n",
              "\n",
              "  <script>\n",
              "    async function quickchart(key) {\n",
              "      const quickchartButtonEl =\n",
              "        document.querySelector('#' + key + ' button');\n",
              "      quickchartButtonEl.disabled = true;  // To prevent multiple clicks.\n",
              "      quickchartButtonEl.classList.add('colab-df-spinner');\n",
              "      try {\n",
              "        const charts = await google.colab.kernel.invokeFunction(\n",
              "            'suggestCharts', [key], {});\n",
              "      } catch (error) {\n",
              "        console.error('Error during call to suggestCharts:', error);\n",
              "      }\n",
              "      quickchartButtonEl.classList.remove('colab-df-spinner');\n",
              "      quickchartButtonEl.classList.add('colab-df-quickchart-complete');\n",
              "    }\n",
              "    (() => {\n",
              "      let quickchartButtonEl =\n",
              "        document.querySelector('#df-979098c8-3ead-47d0-90db-7f8ee14be5d2 button');\n",
              "      quickchartButtonEl.style.display =\n",
              "        google.colab.kernel.accessAllowed ? 'block' : 'none';\n",
              "    })();\n",
              "  </script>\n",
              "</div>\n",
              "    </div>\n",
              "  </div>\n"
            ],
            "application/vnd.google.colaboratory.intrinsic+json": {
              "type": "dataframe",
              "variable_name": "recipes",
              "summary": "{\n  \"name\": \"recipes\",\n  \"rows\": 30000,\n  \"fields\": [\n    {\n      \"column\": \"name\",\n      \"properties\": {\n        \"dtype\": \"string\",\n        \"num_unique_values\": 29975,\n        \"samples\": [\n          \"rice pudding with dates\",\n          \"sloppy joaquins\",\n          \"panama scramble\"\n        ],\n        \"semantic_type\": \"\",\n        \"description\": \"\"\n      }\n    },\n    {\n      \"column\": \"id\",\n      \"properties\": {\n        \"dtype\": \"number\",\n        \"std\": 140974,\n        \"min\": 48,\n        \"max\": 536747,\n        \"num_unique_values\": 30000,\n        \"samples\": [\n          184910,\n          80229,\n          246733\n        ],\n        \"semantic_type\": \"\",\n        \"description\": \"\"\n      }\n    },\n    {\n      \"column\": \"minutes\",\n      \"properties\": {\n        \"dtype\": \"number\",\n        \"std\": 1660,\n        \"min\": 0,\n        \"max\": 129615,\n        \"num_unique_values\": 423,\n        \"samples\": [\n          54,\n          124,\n          690\n        ],\n        \"semantic_type\": \"\",\n        \"description\": \"\"\n      }\n    },\n    {\n      \"column\": \"contributor_id\",\n      \"properties\": {\n        \"dtype\": \"number\",\n        \"std\": 100737263,\n        \"min\": 1530,\n        \"max\": 2002247884,\n        \"num_unique_values\": 8404,\n        \"samples\": [\n          86764,\n          1107673,\n          2549237\n        ],\n        \"semantic_type\": \"\",\n        \"description\": \"\"\n      }\n    },\n    {\n      \"column\": \"submitted\",\n      \"properties\": {\n        \"dtype\": \"object\",\n        \"num_unique_values\": 4032,\n        \"samples\": [\n          \"2008-08-14\",\n          \"2007-08-13\",\n          \"2007-10-17\"\n        ],\n        \"semantic_type\": \"\",\n        \"description\": \"\"\n      }\n    },\n    {\n      \"column\": \"n_steps\",\n      \"properties\": {\n        \"dtype\": \"number\",\n        \"std\": 5.944155081320949,\n        \"min\": 1.0,\n        \"max\": 88.0,\n        \"num_unique_values\": 57,\n        \"samples\": [\n          4.0,\n          10.0,\n          23.0\n        ],\n        \"semantic_type\": \"\",\n        \"description\": \"\"\n      }\n    },\n    {\n      \"column\": \"description\",\n      \"properties\": {\n        \"dtype\": \"string\",\n        \"num_unique_values\": 29174,\n        \"samples\": [\n          \"i found this recipe on camprecipes.com and made it on a recent trip to colorado. i used wheat bagels instead of plain. this was a really nice alternative to the usual scrambled eggs and trail mix breakfast. clean taste and easy to make! careful with the honey though, too much can be a mess to clean up. enjoy!\",\n          \"my husband is a steak purist--nothing on his bbq steaks--until i introduced him to this quick & very easy topping. from an old good housekeeping cookbook, but tweaked slightly. worse thing is that i eat more steak with this on it!  haven't tried yet on hamburgers but will do so some day.  hope you enjoy it as much as we do.\",\n          \"i got the basic recipe from \\\"calling all cooks\\\" yellow cookbook.  my daughter and i were trying to come up with something to enter in for her 4-h baking contest.  we just decided to add chocolate chips.\"\n        ],\n        \"semantic_type\": \"\",\n        \"description\": \"\"\n      }\n    },\n    {\n      \"column\": \"n_ingredients\",\n      \"properties\": {\n        \"dtype\": \"number\",\n        \"std\": 3.7152133536844953,\n        \"min\": 1.0,\n        \"max\": 34.0,\n        \"num_unique_values\": 31,\n        \"samples\": [\n          29.0,\n          22.0,\n          23.0\n        ],\n        \"semantic_type\": \"\",\n        \"description\": \"\"\n      }\n    }\n  ]\n}"
            }
          },
          "metadata": {},
          "execution_count": 40
        }
      ],
      "source": [
        "import pandas as pd\n",
        "recipes = pd.read_csv('/content/drive/MyDrive/L2/recipes_sample.csv')\n",
        "recipes_sample = recipes\n",
        "recipes_sample"
      ]
    },
    {
      "cell_type": "code",
      "execution_count": 39,
      "metadata": {
        "id": "cI_E8pIpyClc",
        "colab": {
          "base_uri": "https://localhost:8080/",
          "height": 1000
        },
        "outputId": "26cde143-dcde-4e23-ef2e-cb245c843739"
      },
      "outputs": [
        {
          "output_type": "display_data",
          "data": {
            "text/plain": [
              "                                          name      id  minutes  \\\n",
              "0        george s at the cove  black bean soup   44123     90.0   \n",
              "1           healthy for them  yogurt popsicles   67664     10.0   \n",
              "2                 i can t believe it s spinach   38798     30.0   \n",
              "3                         italian  gut busters   35173     45.0   \n",
              "4     love is in the air  beef fondue   sauces   84797     25.0   \n",
              "...                                        ...     ...      ...   \n",
              "4195                                       NaN  423555      NaN   \n",
              "4196                                       NaN   35251      NaN   \n",
              "4197                                       NaN  135887      NaN   \n",
              "4198                                       NaN  212714      NaN   \n",
              "4199                                       NaN  344321      NaN   \n",
              "\n",
              "      contributor_id   submitted  n_steps  \\\n",
              "0            35193.0  2002-10-25      NaN   \n",
              "1            91970.0  2003-07-26      NaN   \n",
              "2             1533.0  2002-08-29      NaN   \n",
              "3            22724.0  2002-07-27      NaN   \n",
              "4             4470.0  2004-02-23      4.0   \n",
              "...              ...         ...      ...   \n",
              "4195             NaN         NaN      NaN   \n",
              "4196             NaN         NaN      NaN   \n",
              "4197             NaN         NaN      NaN   \n",
              "4198             NaN         NaN      NaN   \n",
              "4199             NaN         NaN      NaN   \n",
              "\n",
              "                                            description  n_ingredients  \\\n",
              "0     an original recipe created by chef scott meska...           18.0   \n",
              "1     my children and their friends ask for my homem...            NaN   \n",
              "2               these were so go, it surprised even me.            8.0   \n",
              "3     my sister-in-law made these for us at a family...            NaN   \n",
              "4     i think a fondue is a very romantic casual din...            NaN   \n",
              "...                                                 ...            ...   \n",
              "4195                                                NaN            NaN   \n",
              "4196                                                NaN            NaN   \n",
              "4197                                                NaN            NaN   \n",
              "4198                                                NaN            NaN   \n",
              "4199                                                NaN            NaN   \n",
              "\n",
              "           username  sex                                            address  \\\n",
              "0               NaN  NaN                                                NaN   \n",
              "1               NaN  NaN                                                NaN   \n",
              "2               NaN  NaN                                                NaN   \n",
              "3               NaN  NaN                                                NaN   \n",
              "4               NaN  NaN                                                NaN   \n",
              "...             ...  ...                                                ...   \n",
              "4195  stevenspencer    F       2818 Quinn Mountains\\nJoneschester, OR 92327   \n",
              "4196      rwilliams    M  9857 Zhang Expressway Apt. 110\\nSouth Markberg...   \n",
              "4197      lmartinez    F              450 Carter Views\\nStacystad, ID 06756   \n",
              "4198     brendahill    M                        USCGC Collins\\nFPO AP 19821   \n",
              "4199       mistyray    F  9745 David Hollow Apt. 441\\nNorth Stacymouth, ...   \n",
              "\n",
              "                             mail  \\\n",
              "0                             NaN   \n",
              "1                             NaN   \n",
              "2                             NaN   \n",
              "3                             NaN   \n",
              "4                             NaN   \n",
              "...                           ...   \n",
              "4195       fisherjohn@hotmail.com   \n",
              "4196     greenerodney@hotmail.com   \n",
              "4197  cynthiasantiago@hotmail.com   \n",
              "4198           rjackson@yahoo.com   \n",
              "4199         andrew22@hotmail.com   \n",
              "\n",
              "                                                   jobs  \n",
              "0                                                   NaN  \n",
              "1                                                   NaN  \n",
              "2                                                   NaN  \n",
              "3                                                   NaN  \n",
              "4                                                   NaN  \n",
              "...                                                 ...  \n",
              "4195  [Retail banker, Administrator, arts, Race rela...  \n",
              "4196  [Dentist, Control and instrumentation engineer...  \n",
              "4197  [Dance movement psychotherapist, Scientist, ma...  \n",
              "4198  [Nurse, adult, Mechanical engineer, Psychother...  \n",
              "4199  [Associate Professor, Personnel officer, Indus...  \n",
              "\n",
              "[34200 rows x 13 columns]"
            ],
            "text/html": [
              "\n",
              "  <div id=\"df-f56e1c38-d61d-41a1-9758-9ff1810dabf2\" class=\"colab-df-container\">\n",
              "    <div>\n",
              "<style scoped>\n",
              "    .dataframe tbody tr th:only-of-type {\n",
              "        vertical-align: middle;\n",
              "    }\n",
              "\n",
              "    .dataframe tbody tr th {\n",
              "        vertical-align: top;\n",
              "    }\n",
              "\n",
              "    .dataframe thead th {\n",
              "        text-align: right;\n",
              "    }\n",
              "</style>\n",
              "<table border=\"1\" class=\"dataframe\">\n",
              "  <thead>\n",
              "    <tr style=\"text-align: right;\">\n",
              "      <th></th>\n",
              "      <th>name</th>\n",
              "      <th>id</th>\n",
              "      <th>minutes</th>\n",
              "      <th>contributor_id</th>\n",
              "      <th>submitted</th>\n",
              "      <th>n_steps</th>\n",
              "      <th>description</th>\n",
              "      <th>n_ingredients</th>\n",
              "      <th>username</th>\n",
              "      <th>sex</th>\n",
              "      <th>address</th>\n",
              "      <th>mail</th>\n",
              "      <th>jobs</th>\n",
              "    </tr>\n",
              "  </thead>\n",
              "  <tbody>\n",
              "    <tr>\n",
              "      <th>0</th>\n",
              "      <td>george s at the cove  black bean soup</td>\n",
              "      <td>44123</td>\n",
              "      <td>90.0</td>\n",
              "      <td>35193.0</td>\n",
              "      <td>2002-10-25</td>\n",
              "      <td>NaN</td>\n",
              "      <td>an original recipe created by chef scott meska...</td>\n",
              "      <td>18.0</td>\n",
              "      <td>NaN</td>\n",
              "      <td>NaN</td>\n",
              "      <td>NaN</td>\n",
              "      <td>NaN</td>\n",
              "      <td>NaN</td>\n",
              "    </tr>\n",
              "    <tr>\n",
              "      <th>1</th>\n",
              "      <td>healthy for them  yogurt popsicles</td>\n",
              "      <td>67664</td>\n",
              "      <td>10.0</td>\n",
              "      <td>91970.0</td>\n",
              "      <td>2003-07-26</td>\n",
              "      <td>NaN</td>\n",
              "      <td>my children and their friends ask for my homem...</td>\n",
              "      <td>NaN</td>\n",
              "      <td>NaN</td>\n",
              "      <td>NaN</td>\n",
              "      <td>NaN</td>\n",
              "      <td>NaN</td>\n",
              "      <td>NaN</td>\n",
              "    </tr>\n",
              "    <tr>\n",
              "      <th>2</th>\n",
              "      <td>i can t believe it s spinach</td>\n",
              "      <td>38798</td>\n",
              "      <td>30.0</td>\n",
              "      <td>1533.0</td>\n",
              "      <td>2002-08-29</td>\n",
              "      <td>NaN</td>\n",
              "      <td>these were so go, it surprised even me.</td>\n",
              "      <td>8.0</td>\n",
              "      <td>NaN</td>\n",
              "      <td>NaN</td>\n",
              "      <td>NaN</td>\n",
              "      <td>NaN</td>\n",
              "      <td>NaN</td>\n",
              "    </tr>\n",
              "    <tr>\n",
              "      <th>3</th>\n",
              "      <td>italian  gut busters</td>\n",
              "      <td>35173</td>\n",
              "      <td>45.0</td>\n",
              "      <td>22724.0</td>\n",
              "      <td>2002-07-27</td>\n",
              "      <td>NaN</td>\n",
              "      <td>my sister-in-law made these for us at a family...</td>\n",
              "      <td>NaN</td>\n",
              "      <td>NaN</td>\n",
              "      <td>NaN</td>\n",
              "      <td>NaN</td>\n",
              "      <td>NaN</td>\n",
              "      <td>NaN</td>\n",
              "    </tr>\n",
              "    <tr>\n",
              "      <th>4</th>\n",
              "      <td>love is in the air  beef fondue   sauces</td>\n",
              "      <td>84797</td>\n",
              "      <td>25.0</td>\n",
              "      <td>4470.0</td>\n",
              "      <td>2004-02-23</td>\n",
              "      <td>4.0</td>\n",
              "      <td>i think a fondue is a very romantic casual din...</td>\n",
              "      <td>NaN</td>\n",
              "      <td>NaN</td>\n",
              "      <td>NaN</td>\n",
              "      <td>NaN</td>\n",
              "      <td>NaN</td>\n",
              "      <td>NaN</td>\n",
              "    </tr>\n",
              "    <tr>\n",
              "      <th>...</th>\n",
              "      <td>...</td>\n",
              "      <td>...</td>\n",
              "      <td>...</td>\n",
              "      <td>...</td>\n",
              "      <td>...</td>\n",
              "      <td>...</td>\n",
              "      <td>...</td>\n",
              "      <td>...</td>\n",
              "      <td>...</td>\n",
              "      <td>...</td>\n",
              "      <td>...</td>\n",
              "      <td>...</td>\n",
              "      <td>...</td>\n",
              "    </tr>\n",
              "    <tr>\n",
              "      <th>4195</th>\n",
              "      <td>NaN</td>\n",
              "      <td>423555</td>\n",
              "      <td>NaN</td>\n",
              "      <td>NaN</td>\n",
              "      <td>NaN</td>\n",
              "      <td>NaN</td>\n",
              "      <td>NaN</td>\n",
              "      <td>NaN</td>\n",
              "      <td>stevenspencer</td>\n",
              "      <td>F</td>\n",
              "      <td>2818 Quinn Mountains\\nJoneschester, OR 92327</td>\n",
              "      <td>fisherjohn@hotmail.com</td>\n",
              "      <td>[Retail banker, Administrator, arts, Race rela...</td>\n",
              "    </tr>\n",
              "    <tr>\n",
              "      <th>4196</th>\n",
              "      <td>NaN</td>\n",
              "      <td>35251</td>\n",
              "      <td>NaN</td>\n",
              "      <td>NaN</td>\n",
              "      <td>NaN</td>\n",
              "      <td>NaN</td>\n",
              "      <td>NaN</td>\n",
              "      <td>NaN</td>\n",
              "      <td>rwilliams</td>\n",
              "      <td>M</td>\n",
              "      <td>9857 Zhang Expressway Apt. 110\\nSouth Markberg...</td>\n",
              "      <td>greenerodney@hotmail.com</td>\n",
              "      <td>[Dentist, Control and instrumentation engineer...</td>\n",
              "    </tr>\n",
              "    <tr>\n",
              "      <th>4197</th>\n",
              "      <td>NaN</td>\n",
              "      <td>135887</td>\n",
              "      <td>NaN</td>\n",
              "      <td>NaN</td>\n",
              "      <td>NaN</td>\n",
              "      <td>NaN</td>\n",
              "      <td>NaN</td>\n",
              "      <td>NaN</td>\n",
              "      <td>lmartinez</td>\n",
              "      <td>F</td>\n",
              "      <td>450 Carter Views\\nStacystad, ID 06756</td>\n",
              "      <td>cynthiasantiago@hotmail.com</td>\n",
              "      <td>[Dance movement psychotherapist, Scientist, ma...</td>\n",
              "    </tr>\n",
              "    <tr>\n",
              "      <th>4198</th>\n",
              "      <td>NaN</td>\n",
              "      <td>212714</td>\n",
              "      <td>NaN</td>\n",
              "      <td>NaN</td>\n",
              "      <td>NaN</td>\n",
              "      <td>NaN</td>\n",
              "      <td>NaN</td>\n",
              "      <td>NaN</td>\n",
              "      <td>brendahill</td>\n",
              "      <td>M</td>\n",
              "      <td>USCGC Collins\\nFPO AP 19821</td>\n",
              "      <td>rjackson@yahoo.com</td>\n",
              "      <td>[Nurse, adult, Mechanical engineer, Psychother...</td>\n",
              "    </tr>\n",
              "    <tr>\n",
              "      <th>4199</th>\n",
              "      <td>NaN</td>\n",
              "      <td>344321</td>\n",
              "      <td>NaN</td>\n",
              "      <td>NaN</td>\n",
              "      <td>NaN</td>\n",
              "      <td>NaN</td>\n",
              "      <td>NaN</td>\n",
              "      <td>NaN</td>\n",
              "      <td>mistyray</td>\n",
              "      <td>F</td>\n",
              "      <td>9745 David Hollow Apt. 441\\nNorth Stacymouth, ...</td>\n",
              "      <td>andrew22@hotmail.com</td>\n",
              "      <td>[Associate Professor, Personnel officer, Indus...</td>\n",
              "    </tr>\n",
              "  </tbody>\n",
              "</table>\n",
              "<p>34200 rows × 13 columns</p>\n",
              "</div>\n",
              "    <div class=\"colab-df-buttons\">\n",
              "\n",
              "  <div class=\"colab-df-container\">\n",
              "    <button class=\"colab-df-convert\" onclick=\"convertToInteractive('df-f56e1c38-d61d-41a1-9758-9ff1810dabf2')\"\n",
              "            title=\"Convert this dataframe to an interactive table.\"\n",
              "            style=\"display:none;\">\n",
              "\n",
              "  <svg xmlns=\"http://www.w3.org/2000/svg\" height=\"24px\" viewBox=\"0 -960 960 960\">\n",
              "    <path d=\"M120-120v-720h720v720H120Zm60-500h600v-160H180v160Zm220 220h160v-160H400v160Zm0 220h160v-160H400v160ZM180-400h160v-160H180v160Zm440 0h160v-160H620v160ZM180-180h160v-160H180v160Zm440 0h160v-160H620v160Z\"/>\n",
              "  </svg>\n",
              "    </button>\n",
              "\n",
              "  <style>\n",
              "    .colab-df-container {\n",
              "      display:flex;\n",
              "      gap: 12px;\n",
              "    }\n",
              "\n",
              "    .colab-df-convert {\n",
              "      background-color: #E8F0FE;\n",
              "      border: none;\n",
              "      border-radius: 50%;\n",
              "      cursor: pointer;\n",
              "      display: none;\n",
              "      fill: #1967D2;\n",
              "      height: 32px;\n",
              "      padding: 0 0 0 0;\n",
              "      width: 32px;\n",
              "    }\n",
              "\n",
              "    .colab-df-convert:hover {\n",
              "      background-color: #E2EBFA;\n",
              "      box-shadow: 0px 1px 2px rgba(60, 64, 67, 0.3), 0px 1px 3px 1px rgba(60, 64, 67, 0.15);\n",
              "      fill: #174EA6;\n",
              "    }\n",
              "\n",
              "    .colab-df-buttons div {\n",
              "      margin-bottom: 4px;\n",
              "    }\n",
              "\n",
              "    [theme=dark] .colab-df-convert {\n",
              "      background-color: #3B4455;\n",
              "      fill: #D2E3FC;\n",
              "    }\n",
              "\n",
              "    [theme=dark] .colab-df-convert:hover {\n",
              "      background-color: #434B5C;\n",
              "      box-shadow: 0px 1px 3px 1px rgba(0, 0, 0, 0.15);\n",
              "      filter: drop-shadow(0px 1px 2px rgba(0, 0, 0, 0.3));\n",
              "      fill: #FFFFFF;\n",
              "    }\n",
              "  </style>\n",
              "\n",
              "    <script>\n",
              "      const buttonEl =\n",
              "        document.querySelector('#df-f56e1c38-d61d-41a1-9758-9ff1810dabf2 button.colab-df-convert');\n",
              "      buttonEl.style.display =\n",
              "        google.colab.kernel.accessAllowed ? 'block' : 'none';\n",
              "\n",
              "      async function convertToInteractive(key) {\n",
              "        const element = document.querySelector('#df-f56e1c38-d61d-41a1-9758-9ff1810dabf2');\n",
              "        const dataTable =\n",
              "          await google.colab.kernel.invokeFunction('convertToInteractive',\n",
              "                                                    [key], {});\n",
              "        if (!dataTable) return;\n",
              "\n",
              "        const docLinkHtml = 'Like what you see? Visit the ' +\n",
              "          '<a target=\"_blank\" href=https://colab.research.google.com/notebooks/data_table.ipynb>data table notebook</a>'\n",
              "          + ' to learn more about interactive tables.';\n",
              "        element.innerHTML = '';\n",
              "        dataTable['output_type'] = 'display_data';\n",
              "        await google.colab.output.renderOutput(dataTable, element);\n",
              "        const docLink = document.createElement('div');\n",
              "        docLink.innerHTML = docLinkHtml;\n",
              "        element.appendChild(docLink);\n",
              "      }\n",
              "    </script>\n",
              "  </div>\n",
              "\n",
              "\n",
              "<div id=\"df-16fe8413-3612-4b0f-85d6-dc4695c44742\">\n",
              "  <button class=\"colab-df-quickchart\" onclick=\"quickchart('df-16fe8413-3612-4b0f-85d6-dc4695c44742')\"\n",
              "            title=\"Suggest charts\"\n",
              "            style=\"display:none;\">\n",
              "\n",
              "<svg xmlns=\"http://www.w3.org/2000/svg\" height=\"24px\"viewBox=\"0 0 24 24\"\n",
              "     width=\"24px\">\n",
              "    <g>\n",
              "        <path d=\"M19 3H5c-1.1 0-2 .9-2 2v14c0 1.1.9 2 2 2h14c1.1 0 2-.9 2-2V5c0-1.1-.9-2-2-2zM9 17H7v-7h2v7zm4 0h-2V7h2v10zm4 0h-2v-4h2v4z\"/>\n",
              "    </g>\n",
              "</svg>\n",
              "  </button>\n",
              "\n",
              "<style>\n",
              "  .colab-df-quickchart {\n",
              "      --bg-color: #E8F0FE;\n",
              "      --fill-color: #1967D2;\n",
              "      --hover-bg-color: #E2EBFA;\n",
              "      --hover-fill-color: #174EA6;\n",
              "      --disabled-fill-color: #AAA;\n",
              "      --disabled-bg-color: #DDD;\n",
              "  }\n",
              "\n",
              "  [theme=dark] .colab-df-quickchart {\n",
              "      --bg-color: #3B4455;\n",
              "      --fill-color: #D2E3FC;\n",
              "      --hover-bg-color: #434B5C;\n",
              "      --hover-fill-color: #FFFFFF;\n",
              "      --disabled-bg-color: #3B4455;\n",
              "      --disabled-fill-color: #666;\n",
              "  }\n",
              "\n",
              "  .colab-df-quickchart {\n",
              "    background-color: var(--bg-color);\n",
              "    border: none;\n",
              "    border-radius: 50%;\n",
              "    cursor: pointer;\n",
              "    display: none;\n",
              "    fill: var(--fill-color);\n",
              "    height: 32px;\n",
              "    padding: 0;\n",
              "    width: 32px;\n",
              "  }\n",
              "\n",
              "  .colab-df-quickchart:hover {\n",
              "    background-color: var(--hover-bg-color);\n",
              "    box-shadow: 0 1px 2px rgba(60, 64, 67, 0.3), 0 1px 3px 1px rgba(60, 64, 67, 0.15);\n",
              "    fill: var(--button-hover-fill-color);\n",
              "  }\n",
              "\n",
              "  .colab-df-quickchart-complete:disabled,\n",
              "  .colab-df-quickchart-complete:disabled:hover {\n",
              "    background-color: var(--disabled-bg-color);\n",
              "    fill: var(--disabled-fill-color);\n",
              "    box-shadow: none;\n",
              "  }\n",
              "\n",
              "  .colab-df-spinner {\n",
              "    border: 2px solid var(--fill-color);\n",
              "    border-color: transparent;\n",
              "    border-bottom-color: var(--fill-color);\n",
              "    animation:\n",
              "      spin 1s steps(1) infinite;\n",
              "  }\n",
              "\n",
              "  @keyframes spin {\n",
              "    0% {\n",
              "      border-color: transparent;\n",
              "      border-bottom-color: var(--fill-color);\n",
              "      border-left-color: var(--fill-color);\n",
              "    }\n",
              "    20% {\n",
              "      border-color: transparent;\n",
              "      border-left-color: var(--fill-color);\n",
              "      border-top-color: var(--fill-color);\n",
              "    }\n",
              "    30% {\n",
              "      border-color: transparent;\n",
              "      border-left-color: var(--fill-color);\n",
              "      border-top-color: var(--fill-color);\n",
              "      border-right-color: var(--fill-color);\n",
              "    }\n",
              "    40% {\n",
              "      border-color: transparent;\n",
              "      border-right-color: var(--fill-color);\n",
              "      border-top-color: var(--fill-color);\n",
              "    }\n",
              "    60% {\n",
              "      border-color: transparent;\n",
              "      border-right-color: var(--fill-color);\n",
              "    }\n",
              "    80% {\n",
              "      border-color: transparent;\n",
              "      border-right-color: var(--fill-color);\n",
              "      border-bottom-color: var(--fill-color);\n",
              "    }\n",
              "    90% {\n",
              "      border-color: transparent;\n",
              "      border-bottom-color: var(--fill-color);\n",
              "    }\n",
              "  }\n",
              "</style>\n",
              "\n",
              "  <script>\n",
              "    async function quickchart(key) {\n",
              "      const quickchartButtonEl =\n",
              "        document.querySelector('#' + key + ' button');\n",
              "      quickchartButtonEl.disabled = true;  // To prevent multiple clicks.\n",
              "      quickchartButtonEl.classList.add('colab-df-spinner');\n",
              "      try {\n",
              "        const charts = await google.colab.kernel.invokeFunction(\n",
              "            'suggestCharts', [key], {});\n",
              "      } catch (error) {\n",
              "        console.error('Error during call to suggestCharts:', error);\n",
              "      }\n",
              "      quickchartButtonEl.classList.remove('colab-df-spinner');\n",
              "      quickchartButtonEl.classList.add('colab-df-quickchart-complete');\n",
              "    }\n",
              "    (() => {\n",
              "      let quickchartButtonEl =\n",
              "        document.querySelector('#df-16fe8413-3612-4b0f-85d6-dc4695c44742 button');\n",
              "      quickchartButtonEl.style.display =\n",
              "        google.colab.kernel.accessAllowed ? 'block' : 'none';\n",
              "    })();\n",
              "  </script>\n",
              "</div>\n",
              "    </div>\n",
              "  </div>\n"
            ],
            "application/vnd.google.colaboratory.intrinsic+json": {
              "type": "dataframe",
              "variable_name": "result",
              "summary": "{\n  \"name\": \"result\",\n  \"rows\": 34200,\n  \"fields\": [\n    {\n      \"column\": \"name\",\n      \"properties\": {\n        \"dtype\": \"string\",\n        \"num_unique_values\": 29975,\n        \"samples\": [\n          \"rice pudding with dates\",\n          \"sloppy joaquins\",\n          \"panama scramble\"\n        ],\n        \"semantic_type\": \"\",\n        \"description\": \"\"\n      }\n    },\n    {\n      \"column\": \"id\",\n      \"properties\": {\n        \"dtype\": \"number\",\n        \"std\": 63606586,\n        \"min\": 48,\n        \"max\": 2002247884,\n        \"num_unique_values\": 34030,\n        \"samples\": [\n          227574,\n          236851,\n          152237\n        ],\n        \"semantic_type\": \"\",\n        \"description\": \"\"\n      }\n    },\n    {\n      \"column\": \"minutes\",\n      \"properties\": {\n        \"dtype\": \"number\",\n        \"std\": 1660.876602473366,\n        \"min\": 0.0,\n        \"max\": 129615.0,\n        \"num_unique_values\": 423,\n        \"samples\": [\n          54.0,\n          124.0,\n          690.0\n        ],\n        \"semantic_type\": \"\",\n        \"description\": \"\"\n      }\n    },\n    {\n      \"column\": \"contributor_id\",\n      \"properties\": {\n        \"dtype\": \"number\",\n        \"std\": 100737263.58835495,\n        \"min\": 1530.0,\n        \"max\": 2002247884.0,\n        \"num_unique_values\": 8404,\n        \"samples\": [\n          86764.0,\n          1107673.0,\n          2549237.0\n        ],\n        \"semantic_type\": \"\",\n        \"description\": \"\"\n      }\n    },\n    {\n      \"column\": \"submitted\",\n      \"properties\": {\n        \"dtype\": \"date\",\n        \"min\": \"1999-08-06 00:00:00\",\n        \"max\": \"2018-08-15 00:00:00\",\n        \"num_unique_values\": 4032,\n        \"samples\": [\n          \"2008-08-14\",\n          \"2007-08-13\",\n          \"2007-10-17\"\n        ],\n        \"semantic_type\": \"\",\n        \"description\": \"\"\n      }\n    },\n    {\n      \"column\": \"n_steps\",\n      \"properties\": {\n        \"dtype\": \"number\",\n        \"std\": 5.944155081320949,\n        \"min\": 1.0,\n        \"max\": 88.0,\n        \"num_unique_values\": 57,\n        \"samples\": [\n          4.0,\n          10.0,\n          23.0\n        ],\n        \"semantic_type\": \"\",\n        \"description\": \"\"\n      }\n    },\n    {\n      \"column\": \"description\",\n      \"properties\": {\n        \"dtype\": \"string\",\n        \"num_unique_values\": 29174,\n        \"samples\": [\n          \"i found this recipe on camprecipes.com and made it on a recent trip to colorado. i used wheat bagels instead of plain. this was a really nice alternative to the usual scrambled eggs and trail mix breakfast. clean taste and easy to make! careful with the honey though, too much can be a mess to clean up. enjoy!\",\n          \"my husband is a steak purist--nothing on his bbq steaks--until i introduced him to this quick & very easy topping. from an old good housekeeping cookbook, but tweaked slightly. worse thing is that i eat more steak with this on it!  haven't tried yet on hamburgers but will do so some day.  hope you enjoy it as much as we do.\",\n          \"i got the basic recipe from \\\"calling all cooks\\\" yellow cookbook.  my daughter and i were trying to come up with something to enter in for her 4-h baking contest.  we just decided to add chocolate chips.\"\n        ],\n        \"semantic_type\": \"\",\n        \"description\": \"\"\n      }\n    },\n    {\n      \"column\": \"n_ingredients\",\n      \"properties\": {\n        \"dtype\": \"number\",\n        \"std\": 3.7152133536844953,\n        \"min\": 1.0,\n        \"max\": 34.0,\n        \"num_unique_values\": 31,\n        \"samples\": [\n          29.0,\n          22.0,\n          23.0\n        ],\n        \"semantic_type\": \"\",\n        \"description\": \"\"\n      }\n    },\n    {\n      \"column\": \"username\",\n      \"properties\": {\n        \"dtype\": \"category\",\n        \"num_unique_values\": 4098,\n        \"samples\": [\n          \"qbuckley\",\n          \"wmoses\",\n          \"jennifer56\"\n        ],\n        \"semantic_type\": \"\",\n        \"description\": \"\"\n      }\n    },\n    {\n      \"column\": \"sex\",\n      \"properties\": {\n        \"dtype\": \"category\",\n        \"num_unique_values\": 2,\n        \"samples\": [\n          \"M\",\n          \"F\"\n        ],\n        \"semantic_type\": \"\",\n        \"description\": \"\"\n      }\n    },\n    {\n      \"column\": \"address\",\n      \"properties\": {\n        \"dtype\": \"category\",\n        \"num_unique_values\": 4200,\n        \"samples\": [\n          \"956 Campbell Terrace Apt. 054\\nElizabethfort, CT 50955\",\n          \"PSC 3802, Box 1590\\nAPO AA 95799\"\n        ],\n        \"semantic_type\": \"\",\n        \"description\": \"\"\n      }\n    },\n    {\n      \"column\": \"mail\",\n      \"properties\": {\n        \"dtype\": \"category\",\n        \"num_unique_values\": 4153,\n        \"samples\": [\n          \"ryankeith@yahoo.com\",\n          \"brownrandy@gmail.com\"\n        ],\n        \"semantic_type\": \"\",\n        \"description\": \"\"\n      }\n    },\n    {\n      \"column\": \"jobs\",\n      \"properties\": {\n        \"dtype\": \"object\",\n        \"semantic_type\": \"\",\n        \"description\": \"\"\n      }\n    }\n  ]\n}"
            }
          },
          "metadata": {}
        }
      ],
      "source": [
        "frames = [recipes, df.drop(columns= ['name'], axis = 1)]\n",
        "result = pd.concat(frames)\n",
        "display(result)"
      ]
    },
    {
      "cell_type": "markdown",
      "metadata": {
        "id": "MyD9vh8n7Ccw"
      },
      "source": [
        "### pickle"
      ]
    },
    {
      "cell_type": "markdown",
      "metadata": {
        "id": "inCjFmVj7Ccw"
      },
      "source": [
        "2.1 На основе файла `contributors_sample.json` создайте словарь следующего вида:\n",
        "```\n",
        "{\n",
        "    должность: [список username людей, занимавших эту должность]\n",
        "}\n",
        "```"
      ]
    },
    {
      "cell_type": "code",
      "execution_count": null,
      "metadata": {
        "id": "jmwzNK6lUWxl"
      },
      "outputs": [],
      "source": [
        "from collections import defaultdict\n",
        "job_people = defaultdict(list)\n",
        "for contributor in contributors_sample:\n",
        "  for job in contributor['jobs']:\n",
        "    job_people[job].append(contributor['username'])\n",
        "dict(job_people)\n",
        "print(dict(job_people))"
      ]
    },
    {
      "cell_type": "markdown",
      "metadata": {
        "id": "AO2Wjz1P7Ccx"
      },
      "source": [
        "2.2 Сохраните результаты в файл `job_people.pickle` и в файл `job_people.json` с использованием форматов pickle и JSON соответственно. Сравните объемы получившихся файлов. При сохранении в JSON укажите аргумент `indent`."
      ]
    },
    {
      "cell_type": "code",
      "execution_count": null,
      "metadata": {
        "id": "kx9BFfQGXAET"
      },
      "outputs": [],
      "source": [
        "import pickle\n",
        "with open('job_people.pickle', 'wb') as f:\n",
        "  pickle.dump(job_people, f)\n",
        "  print('Размер pickle файла:',f.tell(), 'байт')\n",
        "\n",
        "with open('job_people.json', 'w') as f:\n",
        "  json.dump(job_people, f, indent=2)\n",
        "  print('Размер jsone файла:',f.tell(), 'байт')"
      ]
    },
    {
      "cell_type": "markdown",
      "metadata": {
        "id": "XpNhxg8-7Ccx"
      },
      "source": [
        "2.3 Считайте файл `job_people.pickle` и продемонстрируйте, что данные считались корректно."
      ]
    },
    {
      "cell_type": "code",
      "execution_count": null,
      "metadata": {
        "id": "HMenRCZLxItO"
      },
      "outputs": [],
      "source": [
        "with open('job_people.pickle', 'rb') as f:\n",
        "  job_people = pickle.load(f)\n",
        "print(job_people)"
      ]
    },
    {
      "cell_type": "code",
      "execution_count": null,
      "metadata": {
        "id": "2pTivga2DPCM"
      },
      "outputs": [],
      "source": [
        "with open('job_people.pickle', 'rb') as f:\n",
        "  for l in f:\n",
        "    print(l)\n",
        "#print(l)"
      ]
    },
    {
      "cell_type": "markdown",
      "metadata": {
        "id": "ugX8VfUh7Ccx"
      },
      "source": [
        "### XML"
      ]
    },
    {
      "cell_type": "markdown",
      "metadata": {
        "id": "XkrCqA0k7Ccx"
      },
      "source": [
        "3.1 По данным файла `steps_sample.xml` сформируйте словарь с шагами по каждому рецепту вида `{id_рецепта: [\"шаг1\", \"шаг2\"]}`. Сохраните этот словарь в файл `steps_sample.json`"
      ]
    },
    {
      "cell_type": "code",
      "execution_count": null,
      "metadata": {
        "id": "_wrzqUM8aV-q"
      },
      "outputs": [],
      "source": [
        "xml_f = open('/content/drive/MyDrive/L3/data/steps_sample.xml')\n",
        "steps_sample = BeautifulSoup(xml_f, 'xml')\n",
        "\n",
        "recipes_and_steps = {}\n",
        "\n",
        "for recipe in steps_sample.recipes.find_all('recipe'):\n",
        "  steps = [recipes.next for recipes in recipe.steps.find_all(\"step\")]\n",
        "  recipes_and_steps[recipe.find('id').next] = steps\n",
        "\n",
        "with open('./steps_sample.json', 'w', encoding='utf-8') as f:\n",
        "  json.dump(recipes_and_steps, f)\n",
        "\n",
        "#recipes_and_steps"
      ]
    },
    {
      "cell_type": "markdown",
      "metadata": {
        "id": "EPyehCfQ7Ccx"
      },
      "source": [
        "3.2 По данным файла `steps_sample.xml` сформируйте словарь следующего вида: `кол-во_шагов_в_рецепте: [список_id_рецептов]`"
      ]
    },
    {
      "cell_type": "code",
      "execution_count": null,
      "metadata": {
        "id": "M3kxswhtzJMK"
      },
      "outputs": [],
      "source": [
        "steps_dict = {}\n",
        "for recipe in steps_sample.recipes.find_all('recipe'):\n",
        "  recipe_id = recipe.get('id')\n",
        "  steps_count = len(recipe.find_all('step'))\n",
        "  if steps_count not in steps_dict:\n",
        "    steps_dict[steps_count] = []\n",
        "  steps_dict[steps_count].append(recipe_id)\n",
        "\n",
        "for steps, ids in steps_dict.items():\n",
        "    print(f'{steps}: {recipe()}', range(5))"
      ]
    },
    {
      "cell_type": "markdown",
      "metadata": {
        "id": "r8rPNuw17Ccx"
      },
      "source": [
        "3.3 Получите список рецептов, в этапах выполнения которых есть информация о времени (часы или минуты). Для отбора подходящих рецептов обратите внимание на атрибуты соответствующих тэгов."
      ]
    },
    {
      "cell_type": "code",
      "source": [
        "import xml.etree.ElementTree as ET\n"
      ],
      "metadata": {
        "id": "768rYYUgRoV4"
      },
      "execution_count": null,
      "outputs": []
    },
    {
      "cell_type": "markdown",
      "metadata": {
        "id": "g-nb5nAA7Ccx"
      },
      "source": [
        "3.4 Загрузите данные из файла `recipes_sample.csv` (__ЛР2__) в таблицу `recipes`. Для строк, которые содержат пропуски в столбце `n_steps`, заполните этот столбец на основе файла  `steps_sample.xml`. Строки, в которых столбец `n_steps` заполнен, оставьте без изменений."
      ]
    },
    {
      "cell_type": "code",
      "source": [],
      "metadata": {
        "id": "D947v_qWNy4z"
      },
      "execution_count": null,
      "outputs": []
    },
    {
      "cell_type": "markdown",
      "metadata": {
        "id": "wc59Se6H7Ccx"
      },
      "source": [
        "3.5 Проверьте, содержит ли столбец `n_steps` пропуски. Если нет, то преобразуйте его к целочисленному типу и сохраните результаты в файл `recipes_sample_with_filled_nsteps.csv`"
      ]
    },
    {
      "cell_type": "code",
      "execution_count": null,
      "metadata": {
        "id": "nhVmLcMG7Ccx"
      },
      "outputs": [],
      "source": []
    }
  ],
  "metadata": {
    "colab": {
      "provenance": [],
      "include_colab_link": true
    },
    "kernelspec": {
      "display_name": "Python 3",
      "language": "python",
      "name": "python3"
    },
    "language_info": {
      "codemirror_mode": {
        "name": "ipython",
        "version": 3
      },
      "file_extension": ".py",
      "mimetype": "text/x-python",
      "name": "python",
      "nbconvert_exporter": "python",
      "pygments_lexer": "ipython3",
      "version": "3.7.6"
    }
  },
  "nbformat": 4,
  "nbformat_minor": 0
}