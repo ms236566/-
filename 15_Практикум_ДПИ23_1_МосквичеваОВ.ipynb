{
  "nbformat": 4,
  "nbformat_minor": 0,
  "metadata": {
    "colab": {
      "provenance": [],
      "authorship_tag": "ABX9TyP0L0OAJ7VpcR8HOyfKrQW4",
      "include_colab_link": true
    },
    "kernelspec": {
      "name": "python3",
      "display_name": "Python 3"
    },
    "language_info": {
      "name": "python"
    }
  },
  "cells": [
    {
      "cell_type": "markdown",
      "metadata": {
        "id": "view-in-github",
        "colab_type": "text"
      },
      "source": [
        "<a href=\"https://colab.research.google.com/github/ms236566/-/blob/main/15_%D0%9F%D1%80%D0%B0%D0%BA%D1%82%D0%B8%D0%BA%D1%83%D0%BC_%D0%94%D0%9F%D0%9823_1_%D0%9C%D0%BE%D1%81%D0%BA%D0%B2%D0%B8%D1%87%D0%B5%D0%B2%D0%B0%D0%9E%D0%92.ipynb\" target=\"_parent\"><img src=\"https://colab.research.google.com/assets/colab-badge.svg\" alt=\"Open In Colab\"/></a>"
      ]
    },
    {
      "cell_type": "markdown",
      "source": [
        "Задание 15\n",
        "---\n",
        "Функция plus_two() выполняет одну простую задачу — выводит результат сложения переданного в нее числа 2 и значения переменной number. В переменную number должно быть передано число. Обработайте ситуацию, если в эту переменную переданы данные какого-то другого типа. В случае ошибки напечатайте в консоли сообщение «Ожидаемый тип данных — число!»."
      ],
      "metadata": {
        "id": "lpvzpFeIa08H"
      }
    },
    {
      "cell_type": "code",
      "source": [
        "# Решение\n",
        "\n",
        "def plus_two(x):\n",
        "    try:\n",
        "      x = x + 2\n",
        "      return x\n",
        "    except TypeError:\n",
        "        return 'Ожидаемый тип данных — число!'\n",
        "\n",
        "number = plus_two"
      ],
      "metadata": {
        "id": "wsZWlHT5U-Cu"
      },
      "execution_count": 107,
      "outputs": []
    },
    {
      "cell_type": "code",
      "source": [
        "# test1\n",
        "print(number(5))"
      ],
      "metadata": {
        "colab": {
          "base_uri": "https://localhost:8080/"
        },
        "id": "Ymtrn9npfo7b",
        "outputId": "66f5754e-9bc4-4259-9164-b0e32410282d"
      },
      "execution_count": 102,
      "outputs": [
        {
          "output_type": "stream",
          "name": "stdout",
          "text": [
            "7\n"
          ]
        }
      ]
    },
    {
      "cell_type": "code",
      "source": [
        "# test2\n",
        "print(number('aaa'))"
      ],
      "metadata": {
        "colab": {
          "base_uri": "https://localhost:8080/"
        },
        "id": "whR_peIOf0Zv",
        "outputId": "8a80ca7c-3dc2-4b73-8eb1-06bbfb3c2ec6"
      },
      "execution_count": 110,
      "outputs": [
        {
          "output_type": "stream",
          "name": "stdout",
          "text": [
            "Ожидаемый тип данных — число!\n"
          ]
        }
      ]
    },
    {
      "cell_type": "code",
      "source": [
        "# test3\n",
        "print(number(0.2))"
      ],
      "metadata": {
        "colab": {
          "base_uri": "https://localhost:8080/"
        },
        "id": "4ijeVOvXgVxT",
        "outputId": "1562e8c7-fe09-4d86-c34e-22efbe0ff907"
      },
      "execution_count": 109,
      "outputs": [
        {
          "output_type": "stream",
          "name": "stdout",
          "text": [
            "2.2\n"
          ]
        }
      ]
    },
    {
      "cell_type": "code",
      "source": [
        "# test4\n",
        "print(number([1]))"
      ],
      "metadata": {
        "colab": {
          "base_uri": "https://localhost:8080/"
        },
        "id": "ooOH0j2Ogdyz",
        "outputId": "99a3860f-9064-4cea-d438-b3dc4109e7e1"
      },
      "execution_count": 111,
      "outputs": [
        {
          "output_type": "stream",
          "name": "stdout",
          "text": [
            "Ожидаемый тип данных — число!\n"
          ]
        }
      ]
    }
  ]
}