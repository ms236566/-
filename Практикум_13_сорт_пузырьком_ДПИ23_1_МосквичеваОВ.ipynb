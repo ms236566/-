{
  "nbformat": 4,
  "nbformat_minor": 0,
  "metadata": {
    "colab": {
      "provenance": [],
      "authorship_tag": "ABX9TyOV+9UCHUdtJlSe4J6+J1Av",
      "include_colab_link": true
    },
    "kernelspec": {
      "name": "python3",
      "display_name": "Python 3"
    },
    "language_info": {
      "name": "python"
    }
  },
  "cells": [
    {
      "cell_type": "markdown",
      "metadata": {
        "id": "view-in-github",
        "colab_type": "text"
      },
      "source": [
        "<a href=\"https://colab.research.google.com/github/ms236566/-/blob/main/%D0%9F%D1%80%D0%B0%D0%BA%D1%82%D0%B8%D0%BA%D1%83%D0%BC_13_%D1%81%D0%BE%D1%80%D1%82_%D0%BF%D1%83%D0%B7%D1%8B%D1%80%D1%8C%D0%BA%D0%BE%D0%BC_%D0%94%D0%9F%D0%9823_1_%D0%9C%D0%BE%D1%81%D0%BA%D0%B2%D0%B8%D1%87%D0%B5%D0%B2%D0%B0%D0%9E%D0%92.ipynb\" target=\"_parent\"><img src=\"https://colab.research.google.com/assets/colab-badge.svg\" alt=\"Open In Colab\"/></a>"
      ]
    },
    {
      "cell_type": "markdown",
      "source": [
        "\n",
        "Задание 13\n",
        "---\n",
        "\n",
        "Сортировка пузырьком\n",
        "\n",
        "Дан список целых чисел. Отсортируйте его в порядке невозрастания значений. Выведите полученный список на экран.\n",
        "\n",
        "Решите эту задачу при помощи алгоритма пузырьковой сортировки.Решение оформите в виде функции BubbleSort(A).\n",
        "\n",
        "В алгоритме пузырьковой сортировки осуществляется проход по списку от начала к концу, и если два соседних элемента списка стоят в неверном порядке, то они переставляются в правильном порядке. В результате минимальный элемент массива окажется на последнем месте. Повторим эту процедуру еще несколько раз, чтобы поставить все элементы на свои места.\n",
        "\n",
        "Вспомогательным списком пользоваться нельзя.\n"
      ],
      "metadata": {
        "id": "m6rrpAG6MVf6"
      }
    },
    {
      "cell_type": "code",
      "source": [
        "# Решение\n",
        "\n",
        "from random import randint\n",
        "\n",
        "lst_b = [randint(-10, 100) for i in range(10)]\n",
        "print(lst_b) # список исходный\n",
        "\n",
        "# Сортировка пузырьком:\n",
        "def Bubble_Sort(lst_b):\n",
        "  for num in range(len(lst_b) - 1, 0, -1):\n",
        "    for i in range(num):\n",
        "      if lst_b[i] < lst_b[i+1]:\n",
        "        temp = lst_b[i]\n",
        "        lst_b[i] = lst_b[i+1]\n",
        "        lst_b[i+1] = temp\n",
        "  return lst_b\n",
        "\n",
        "Bubble_Sort(list(lst_b)) # результат"
      ],
      "metadata": {
        "id": "KV8WGWAcMhpo",
        "colab": {
          "base_uri": "https://localhost:8080/"
        },
        "outputId": "339ba5ed-b0d5-4a77-f83d-42fec0cecf46"
      },
      "execution_count": 33,
      "outputs": [
        {
          "output_type": "stream",
          "name": "stdout",
          "text": [
            "[-2, 31, 100, 30, 69, -1, 18, 96, 31, 77]\n"
          ]
        },
        {
          "output_type": "execute_result",
          "data": {
            "text/plain": [
              "[100, 96, 77, 69, 31, 31, 30, 18, -1, -2]"
            ]
          },
          "metadata": {},
          "execution_count": 33
        }
      ]
    }
  ]
}